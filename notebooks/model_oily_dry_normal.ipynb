{
  "nbformat": 4,
  "nbformat_minor": 0,
  "metadata": {
    "colab": {
      "provenance": [],
      "gpuType": "T4"
    },
    "kernelspec": {
      "name": "python3",
      "display_name": "Python 3"
    },
    "language_info": {
      "name": "python"
    },
    "accelerator": "GPU",
    "widgets": {
      "application/vnd.jupyter.widget-state+json": {
        "531996a3224d43c5bdc7e839947d5a71": {
          "model_module": "@jupyter-widgets/controls",
          "model_name": "HBoxModel",
          "model_module_version": "1.5.0",
          "state": {
            "_dom_classes": [],
            "_model_module": "@jupyter-widgets/controls",
            "_model_module_version": "1.5.0",
            "_model_name": "HBoxModel",
            "_view_count": null,
            "_view_module": "@jupyter-widgets/controls",
            "_view_module_version": "1.5.0",
            "_view_name": "HBoxView",
            "box_style": "",
            "children": [
              "IPY_MODEL_f960c8f0bedf4d5985c60b1924e10d12",
              "IPY_MODEL_96dee0e781ce484fa62734356ea3f32c",
              "IPY_MODEL_94f4aa79719e4c87afeb66ab4547538c"
            ],
            "layout": "IPY_MODEL_a326e484f51c4295bf5b0963303eb9ca"
          }
        },
        "f960c8f0bedf4d5985c60b1924e10d12": {
          "model_module": "@jupyter-widgets/controls",
          "model_name": "HTMLModel",
          "model_module_version": "1.5.0",
          "state": {
            "_dom_classes": [],
            "_model_module": "@jupyter-widgets/controls",
            "_model_module_version": "1.5.0",
            "_model_name": "HTMLModel",
            "_view_count": null,
            "_view_module": "@jupyter-widgets/controls",
            "_view_module_version": "1.5.0",
            "_view_name": "HTMLView",
            "description": "",
            "description_tooltip": null,
            "layout": "IPY_MODEL_8db2ba878c7f40fc824b70130aea2d51",
            "placeholder": "​",
            "style": "IPY_MODEL_268405090f0949769fd0506c52855c94",
            "value": "100%"
          }
        },
        "96dee0e781ce484fa62734356ea3f32c": {
          "model_module": "@jupyter-widgets/controls",
          "model_name": "FloatProgressModel",
          "model_module_version": "1.5.0",
          "state": {
            "_dom_classes": [],
            "_model_module": "@jupyter-widgets/controls",
            "_model_module_version": "1.5.0",
            "_model_name": "FloatProgressModel",
            "_view_count": null,
            "_view_module": "@jupyter-widgets/controls",
            "_view_module_version": "1.5.0",
            "_view_name": "ProgressView",
            "bar_style": "success",
            "description": "",
            "description_tooltip": null,
            "layout": "IPY_MODEL_9acc4aa3569d4a2b8c2bdc30ef06778d",
            "max": 15,
            "min": 0,
            "orientation": "horizontal",
            "style": "IPY_MODEL_3a9b922ac12749da81786fef6b3696e6",
            "value": 15
          }
        },
        "94f4aa79719e4c87afeb66ab4547538c": {
          "model_module": "@jupyter-widgets/controls",
          "model_name": "HTMLModel",
          "model_module_version": "1.5.0",
          "state": {
            "_dom_classes": [],
            "_model_module": "@jupyter-widgets/controls",
            "_model_module_version": "1.5.0",
            "_model_name": "HTMLModel",
            "_view_count": null,
            "_view_module": "@jupyter-widgets/controls",
            "_view_module_version": "1.5.0",
            "_view_name": "HTMLView",
            "description": "",
            "description_tooltip": null,
            "layout": "IPY_MODEL_e079a80450b646adb162d6515172f642",
            "placeholder": "​",
            "style": "IPY_MODEL_e87521fd12274f2baa7c3d4b905db2b0",
            "value": " 15/15 [15:41&lt;00:00, 62.41s/it]"
          }
        },
        "a326e484f51c4295bf5b0963303eb9ca": {
          "model_module": "@jupyter-widgets/base",
          "model_name": "LayoutModel",
          "model_module_version": "1.2.0",
          "state": {
            "_model_module": "@jupyter-widgets/base",
            "_model_module_version": "1.2.0",
            "_model_name": "LayoutModel",
            "_view_count": null,
            "_view_module": "@jupyter-widgets/base",
            "_view_module_version": "1.2.0",
            "_view_name": "LayoutView",
            "align_content": null,
            "align_items": null,
            "align_self": null,
            "border": null,
            "bottom": null,
            "display": null,
            "flex": null,
            "flex_flow": null,
            "grid_area": null,
            "grid_auto_columns": null,
            "grid_auto_flow": null,
            "grid_auto_rows": null,
            "grid_column": null,
            "grid_gap": null,
            "grid_row": null,
            "grid_template_areas": null,
            "grid_template_columns": null,
            "grid_template_rows": null,
            "height": null,
            "justify_content": null,
            "justify_items": null,
            "left": null,
            "margin": null,
            "max_height": null,
            "max_width": null,
            "min_height": null,
            "min_width": null,
            "object_fit": null,
            "object_position": null,
            "order": null,
            "overflow": null,
            "overflow_x": null,
            "overflow_y": null,
            "padding": null,
            "right": null,
            "top": null,
            "visibility": null,
            "width": null
          }
        },
        "8db2ba878c7f40fc824b70130aea2d51": {
          "model_module": "@jupyter-widgets/base",
          "model_name": "LayoutModel",
          "model_module_version": "1.2.0",
          "state": {
            "_model_module": "@jupyter-widgets/base",
            "_model_module_version": "1.2.0",
            "_model_name": "LayoutModel",
            "_view_count": null,
            "_view_module": "@jupyter-widgets/base",
            "_view_module_version": "1.2.0",
            "_view_name": "LayoutView",
            "align_content": null,
            "align_items": null,
            "align_self": null,
            "border": null,
            "bottom": null,
            "display": null,
            "flex": null,
            "flex_flow": null,
            "grid_area": null,
            "grid_auto_columns": null,
            "grid_auto_flow": null,
            "grid_auto_rows": null,
            "grid_column": null,
            "grid_gap": null,
            "grid_row": null,
            "grid_template_areas": null,
            "grid_template_columns": null,
            "grid_template_rows": null,
            "height": null,
            "justify_content": null,
            "justify_items": null,
            "left": null,
            "margin": null,
            "max_height": null,
            "max_width": null,
            "min_height": null,
            "min_width": null,
            "object_fit": null,
            "object_position": null,
            "order": null,
            "overflow": null,
            "overflow_x": null,
            "overflow_y": null,
            "padding": null,
            "right": null,
            "top": null,
            "visibility": null,
            "width": null
          }
        },
        "268405090f0949769fd0506c52855c94": {
          "model_module": "@jupyter-widgets/controls",
          "model_name": "DescriptionStyleModel",
          "model_module_version": "1.5.0",
          "state": {
            "_model_module": "@jupyter-widgets/controls",
            "_model_module_version": "1.5.0",
            "_model_name": "DescriptionStyleModel",
            "_view_count": null,
            "_view_module": "@jupyter-widgets/base",
            "_view_module_version": "1.2.0",
            "_view_name": "StyleView",
            "description_width": ""
          }
        },
        "9acc4aa3569d4a2b8c2bdc30ef06778d": {
          "model_module": "@jupyter-widgets/base",
          "model_name": "LayoutModel",
          "model_module_version": "1.2.0",
          "state": {
            "_model_module": "@jupyter-widgets/base",
            "_model_module_version": "1.2.0",
            "_model_name": "LayoutModel",
            "_view_count": null,
            "_view_module": "@jupyter-widgets/base",
            "_view_module_version": "1.2.0",
            "_view_name": "LayoutView",
            "align_content": null,
            "align_items": null,
            "align_self": null,
            "border": null,
            "bottom": null,
            "display": null,
            "flex": null,
            "flex_flow": null,
            "grid_area": null,
            "grid_auto_columns": null,
            "grid_auto_flow": null,
            "grid_auto_rows": null,
            "grid_column": null,
            "grid_gap": null,
            "grid_row": null,
            "grid_template_areas": null,
            "grid_template_columns": null,
            "grid_template_rows": null,
            "height": null,
            "justify_content": null,
            "justify_items": null,
            "left": null,
            "margin": null,
            "max_height": null,
            "max_width": null,
            "min_height": null,
            "min_width": null,
            "object_fit": null,
            "object_position": null,
            "order": null,
            "overflow": null,
            "overflow_x": null,
            "overflow_y": null,
            "padding": null,
            "right": null,
            "top": null,
            "visibility": null,
            "width": null
          }
        },
        "3a9b922ac12749da81786fef6b3696e6": {
          "model_module": "@jupyter-widgets/controls",
          "model_name": "ProgressStyleModel",
          "model_module_version": "1.5.0",
          "state": {
            "_model_module": "@jupyter-widgets/controls",
            "_model_module_version": "1.5.0",
            "_model_name": "ProgressStyleModel",
            "_view_count": null,
            "_view_module": "@jupyter-widgets/base",
            "_view_module_version": "1.2.0",
            "_view_name": "StyleView",
            "bar_color": null,
            "description_width": ""
          }
        },
        "e079a80450b646adb162d6515172f642": {
          "model_module": "@jupyter-widgets/base",
          "model_name": "LayoutModel",
          "model_module_version": "1.2.0",
          "state": {
            "_model_module": "@jupyter-widgets/base",
            "_model_module_version": "1.2.0",
            "_model_name": "LayoutModel",
            "_view_count": null,
            "_view_module": "@jupyter-widgets/base",
            "_view_module_version": "1.2.0",
            "_view_name": "LayoutView",
            "align_content": null,
            "align_items": null,
            "align_self": null,
            "border": null,
            "bottom": null,
            "display": null,
            "flex": null,
            "flex_flow": null,
            "grid_area": null,
            "grid_auto_columns": null,
            "grid_auto_flow": null,
            "grid_auto_rows": null,
            "grid_column": null,
            "grid_gap": null,
            "grid_row": null,
            "grid_template_areas": null,
            "grid_template_columns": null,
            "grid_template_rows": null,
            "height": null,
            "justify_content": null,
            "justify_items": null,
            "left": null,
            "margin": null,
            "max_height": null,
            "max_width": null,
            "min_height": null,
            "min_width": null,
            "object_fit": null,
            "object_position": null,
            "order": null,
            "overflow": null,
            "overflow_x": null,
            "overflow_y": null,
            "padding": null,
            "right": null,
            "top": null,
            "visibility": null,
            "width": null
          }
        },
        "e87521fd12274f2baa7c3d4b905db2b0": {
          "model_module": "@jupyter-widgets/controls",
          "model_name": "DescriptionStyleModel",
          "model_module_version": "1.5.0",
          "state": {
            "_model_module": "@jupyter-widgets/controls",
            "_model_module_version": "1.5.0",
            "_model_name": "DescriptionStyleModel",
            "_view_count": null,
            "_view_module": "@jupyter-widgets/base",
            "_view_module_version": "1.2.0",
            "_view_name": "StyleView",
            "description_width": ""
          }
        },
        "e3cfa2cfbb4d447eaa569f0668aaa6b6": {
          "model_module": "@jupyter-widgets/controls",
          "model_name": "HBoxModel",
          "model_module_version": "1.5.0",
          "state": {
            "_dom_classes": [],
            "_model_module": "@jupyter-widgets/controls",
            "_model_module_version": "1.5.0",
            "_model_name": "HBoxModel",
            "_view_count": null,
            "_view_module": "@jupyter-widgets/controls",
            "_view_module_version": "1.5.0",
            "_view_name": "HBoxView",
            "box_style": "",
            "children": [
              "IPY_MODEL_530d3c7469a14af8b2294e148b3ad98a",
              "IPY_MODEL_51c74a4c80ef4abf9835074da6046354",
              "IPY_MODEL_de4bfa5d187d4f3e8b9fc889f187884f"
            ],
            "layout": "IPY_MODEL_dcc01971df4b4878bc14b318a20b486e"
          }
        },
        "530d3c7469a14af8b2294e148b3ad98a": {
          "model_module": "@jupyter-widgets/controls",
          "model_name": "HTMLModel",
          "model_module_version": "1.5.0",
          "state": {
            "_dom_classes": [],
            "_model_module": "@jupyter-widgets/controls",
            "_model_module_version": "1.5.0",
            "_model_name": "HTMLModel",
            "_view_count": null,
            "_view_module": "@jupyter-widgets/controls",
            "_view_module_version": "1.5.0",
            "_view_name": "HTMLView",
            "description": "",
            "description_tooltip": null,
            "layout": "IPY_MODEL_e2bb417679a546b8922155e8f904dfa2",
            "placeholder": "​",
            "style": "IPY_MODEL_be17ca21360344a9a73d33fccca709f1",
            "value": "100%"
          }
        },
        "51c74a4c80ef4abf9835074da6046354": {
          "model_module": "@jupyter-widgets/controls",
          "model_name": "FloatProgressModel",
          "model_module_version": "1.5.0",
          "state": {
            "_dom_classes": [],
            "_model_module": "@jupyter-widgets/controls",
            "_model_module_version": "1.5.0",
            "_model_name": "FloatProgressModel",
            "_view_count": null,
            "_view_module": "@jupyter-widgets/controls",
            "_view_module_version": "1.5.0",
            "_view_name": "ProgressView",
            "bar_style": "success",
            "description": "",
            "description_tooltip": null,
            "layout": "IPY_MODEL_e4a7102abf36467d8523f379c2f40e7a",
            "max": 426,
            "min": 0,
            "orientation": "horizontal",
            "style": "IPY_MODEL_4660ca8bee574720b46f1d35073bd33a",
            "value": 426
          }
        },
        "de4bfa5d187d4f3e8b9fc889f187884f": {
          "model_module": "@jupyter-widgets/controls",
          "model_name": "HTMLModel",
          "model_module_version": "1.5.0",
          "state": {
            "_dom_classes": [],
            "_model_module": "@jupyter-widgets/controls",
            "_model_module_version": "1.5.0",
            "_model_name": "HTMLModel",
            "_view_count": null,
            "_view_module": "@jupyter-widgets/controls",
            "_view_module_version": "1.5.0",
            "_view_name": "HTMLView",
            "description": "",
            "description_tooltip": null,
            "layout": "IPY_MODEL_73bde69c2a7c445db0f29b5fcbcb65d1",
            "placeholder": "​",
            "style": "IPY_MODEL_149c10eb882a4f489189dc7f1bb65de9",
            "value": " 426/426 [00:10&lt;00:00, 61.03it/s]"
          }
        },
        "dcc01971df4b4878bc14b318a20b486e": {
          "model_module": "@jupyter-widgets/base",
          "model_name": "LayoutModel",
          "model_module_version": "1.2.0",
          "state": {
            "_model_module": "@jupyter-widgets/base",
            "_model_module_version": "1.2.0",
            "_model_name": "LayoutModel",
            "_view_count": null,
            "_view_module": "@jupyter-widgets/base",
            "_view_module_version": "1.2.0",
            "_view_name": "LayoutView",
            "align_content": null,
            "align_items": null,
            "align_self": null,
            "border": null,
            "bottom": null,
            "display": null,
            "flex": null,
            "flex_flow": null,
            "grid_area": null,
            "grid_auto_columns": null,
            "grid_auto_flow": null,
            "grid_auto_rows": null,
            "grid_column": null,
            "grid_gap": null,
            "grid_row": null,
            "grid_template_areas": null,
            "grid_template_columns": null,
            "grid_template_rows": null,
            "height": null,
            "justify_content": null,
            "justify_items": null,
            "left": null,
            "margin": null,
            "max_height": null,
            "max_width": null,
            "min_height": null,
            "min_width": null,
            "object_fit": null,
            "object_position": null,
            "order": null,
            "overflow": null,
            "overflow_x": null,
            "overflow_y": null,
            "padding": null,
            "right": null,
            "top": null,
            "visibility": null,
            "width": null
          }
        },
        "e2bb417679a546b8922155e8f904dfa2": {
          "model_module": "@jupyter-widgets/base",
          "model_name": "LayoutModel",
          "model_module_version": "1.2.0",
          "state": {
            "_model_module": "@jupyter-widgets/base",
            "_model_module_version": "1.2.0",
            "_model_name": "LayoutModel",
            "_view_count": null,
            "_view_module": "@jupyter-widgets/base",
            "_view_module_version": "1.2.0",
            "_view_name": "LayoutView",
            "align_content": null,
            "align_items": null,
            "align_self": null,
            "border": null,
            "bottom": null,
            "display": null,
            "flex": null,
            "flex_flow": null,
            "grid_area": null,
            "grid_auto_columns": null,
            "grid_auto_flow": null,
            "grid_auto_rows": null,
            "grid_column": null,
            "grid_gap": null,
            "grid_row": null,
            "grid_template_areas": null,
            "grid_template_columns": null,
            "grid_template_rows": null,
            "height": null,
            "justify_content": null,
            "justify_items": null,
            "left": null,
            "margin": null,
            "max_height": null,
            "max_width": null,
            "min_height": null,
            "min_width": null,
            "object_fit": null,
            "object_position": null,
            "order": null,
            "overflow": null,
            "overflow_x": null,
            "overflow_y": null,
            "padding": null,
            "right": null,
            "top": null,
            "visibility": null,
            "width": null
          }
        },
        "be17ca21360344a9a73d33fccca709f1": {
          "model_module": "@jupyter-widgets/controls",
          "model_name": "DescriptionStyleModel",
          "model_module_version": "1.5.0",
          "state": {
            "_model_module": "@jupyter-widgets/controls",
            "_model_module_version": "1.5.0",
            "_model_name": "DescriptionStyleModel",
            "_view_count": null,
            "_view_module": "@jupyter-widgets/base",
            "_view_module_version": "1.2.0",
            "_view_name": "StyleView",
            "description_width": ""
          }
        },
        "e4a7102abf36467d8523f379c2f40e7a": {
          "model_module": "@jupyter-widgets/base",
          "model_name": "LayoutModel",
          "model_module_version": "1.2.0",
          "state": {
            "_model_module": "@jupyter-widgets/base",
            "_model_module_version": "1.2.0",
            "_model_name": "LayoutModel",
            "_view_count": null,
            "_view_module": "@jupyter-widgets/base",
            "_view_module_version": "1.2.0",
            "_view_name": "LayoutView",
            "align_content": null,
            "align_items": null,
            "align_self": null,
            "border": null,
            "bottom": null,
            "display": null,
            "flex": null,
            "flex_flow": null,
            "grid_area": null,
            "grid_auto_columns": null,
            "grid_auto_flow": null,
            "grid_auto_rows": null,
            "grid_column": null,
            "grid_gap": null,
            "grid_row": null,
            "grid_template_areas": null,
            "grid_template_columns": null,
            "grid_template_rows": null,
            "height": null,
            "justify_content": null,
            "justify_items": null,
            "left": null,
            "margin": null,
            "max_height": null,
            "max_width": null,
            "min_height": null,
            "min_width": null,
            "object_fit": null,
            "object_position": null,
            "order": null,
            "overflow": null,
            "overflow_x": null,
            "overflow_y": null,
            "padding": null,
            "right": null,
            "top": null,
            "visibility": null,
            "width": null
          }
        },
        "4660ca8bee574720b46f1d35073bd33a": {
          "model_module": "@jupyter-widgets/controls",
          "model_name": "ProgressStyleModel",
          "model_module_version": "1.5.0",
          "state": {
            "_model_module": "@jupyter-widgets/controls",
            "_model_module_version": "1.5.0",
            "_model_name": "ProgressStyleModel",
            "_view_count": null,
            "_view_module": "@jupyter-widgets/base",
            "_view_module_version": "1.2.0",
            "_view_name": "StyleView",
            "bar_color": null,
            "description_width": ""
          }
        },
        "73bde69c2a7c445db0f29b5fcbcb65d1": {
          "model_module": "@jupyter-widgets/base",
          "model_name": "LayoutModel",
          "model_module_version": "1.2.0",
          "state": {
            "_model_module": "@jupyter-widgets/base",
            "_model_module_version": "1.2.0",
            "_model_name": "LayoutModel",
            "_view_count": null,
            "_view_module": "@jupyter-widgets/base",
            "_view_module_version": "1.2.0",
            "_view_name": "LayoutView",
            "align_content": null,
            "align_items": null,
            "align_self": null,
            "border": null,
            "bottom": null,
            "display": null,
            "flex": null,
            "flex_flow": null,
            "grid_area": null,
            "grid_auto_columns": null,
            "grid_auto_flow": null,
            "grid_auto_rows": null,
            "grid_column": null,
            "grid_gap": null,
            "grid_row": null,
            "grid_template_areas": null,
            "grid_template_columns": null,
            "grid_template_rows": null,
            "height": null,
            "justify_content": null,
            "justify_items": null,
            "left": null,
            "margin": null,
            "max_height": null,
            "max_width": null,
            "min_height": null,
            "min_width": null,
            "object_fit": null,
            "object_position": null,
            "order": null,
            "overflow": null,
            "overflow_x": null,
            "overflow_y": null,
            "padding": null,
            "right": null,
            "top": null,
            "visibility": null,
            "width": null
          }
        },
        "149c10eb882a4f489189dc7f1bb65de9": {
          "model_module": "@jupyter-widgets/controls",
          "model_name": "DescriptionStyleModel",
          "model_module_version": "1.5.0",
          "state": {
            "_model_module": "@jupyter-widgets/controls",
            "_model_module_version": "1.5.0",
            "_model_name": "DescriptionStyleModel",
            "_view_count": null,
            "_view_module": "@jupyter-widgets/base",
            "_view_module_version": "1.2.0",
            "_view_name": "StyleView",
            "description_width": ""
          }
        },
        "2151cd3e1509494186149a97542c41c6": {
          "model_module": "@jupyter-widgets/controls",
          "model_name": "HBoxModel",
          "model_module_version": "1.5.0",
          "state": {
            "_dom_classes": [],
            "_model_module": "@jupyter-widgets/controls",
            "_model_module_version": "1.5.0",
            "_model_name": "HBoxModel",
            "_view_count": null,
            "_view_module": "@jupyter-widgets/controls",
            "_view_module_version": "1.5.0",
            "_view_name": "HBoxView",
            "box_style": "",
            "children": [
              "IPY_MODEL_14b280cc957d473db43a47290abdd789",
              "IPY_MODEL_887fdbfeb77b46e0bcf0a06656fe72cd",
              "IPY_MODEL_9ccc8ffbffe84585b3c64faf5aaa8b2c"
            ],
            "layout": "IPY_MODEL_ca37f540d4a8420b8d19291b4b077c15"
          }
        },
        "14b280cc957d473db43a47290abdd789": {
          "model_module": "@jupyter-widgets/controls",
          "model_name": "HTMLModel",
          "model_module_version": "1.5.0",
          "state": {
            "_dom_classes": [],
            "_model_module": "@jupyter-widgets/controls",
            "_model_module_version": "1.5.0",
            "_model_name": "HTMLModel",
            "_view_count": null,
            "_view_module": "@jupyter-widgets/controls",
            "_view_module_version": "1.5.0",
            "_view_name": "HTMLView",
            "description": "",
            "description_tooltip": null,
            "layout": "IPY_MODEL_4d4f9bd25e9f4bddbf1f580f8de10bea",
            "placeholder": "​",
            "style": "IPY_MODEL_92e046eb920d46528288858e886ac682",
            "value": "100%"
          }
        },
        "887fdbfeb77b46e0bcf0a06656fe72cd": {
          "model_module": "@jupyter-widgets/controls",
          "model_name": "FloatProgressModel",
          "model_module_version": "1.5.0",
          "state": {
            "_dom_classes": [],
            "_model_module": "@jupyter-widgets/controls",
            "_model_module_version": "1.5.0",
            "_model_name": "FloatProgressModel",
            "_view_count": null,
            "_view_module": "@jupyter-widgets/controls",
            "_view_module_version": "1.5.0",
            "_view_name": "ProgressView",
            "bar_style": "success",
            "description": "",
            "description_tooltip": null,
            "layout": "IPY_MODEL_507706760d654013b1f8f0a0f88823a1",
            "max": 9,
            "min": 0,
            "orientation": "horizontal",
            "style": "IPY_MODEL_f5627368dab540809c54d97c48cf6f4b",
            "value": 9
          }
        },
        "9ccc8ffbffe84585b3c64faf5aaa8b2c": {
          "model_module": "@jupyter-widgets/controls",
          "model_name": "HTMLModel",
          "model_module_version": "1.5.0",
          "state": {
            "_dom_classes": [],
            "_model_module": "@jupyter-widgets/controls",
            "_model_module_version": "1.5.0",
            "_model_name": "HTMLModel",
            "_view_count": null,
            "_view_module": "@jupyter-widgets/controls",
            "_view_module_version": "1.5.0",
            "_view_name": "HTMLView",
            "description": "",
            "description_tooltip": null,
            "layout": "IPY_MODEL_fa6f27533d5d4fd9a936ee6ac1fa001f",
            "placeholder": "​",
            "style": "IPY_MODEL_d9cb849c5435429f9d7748e0f8a4b27b",
            "value": " 9/9 [00:01&lt;00:00, 10.58it/s]"
          }
        },
        "ca37f540d4a8420b8d19291b4b077c15": {
          "model_module": "@jupyter-widgets/base",
          "model_name": "LayoutModel",
          "model_module_version": "1.2.0",
          "state": {
            "_model_module": "@jupyter-widgets/base",
            "_model_module_version": "1.2.0",
            "_model_name": "LayoutModel",
            "_view_count": null,
            "_view_module": "@jupyter-widgets/base",
            "_view_module_version": "1.2.0",
            "_view_name": "LayoutView",
            "align_content": null,
            "align_items": null,
            "align_self": null,
            "border": null,
            "bottom": null,
            "display": null,
            "flex": null,
            "flex_flow": null,
            "grid_area": null,
            "grid_auto_columns": null,
            "grid_auto_flow": null,
            "grid_auto_rows": null,
            "grid_column": null,
            "grid_gap": null,
            "grid_row": null,
            "grid_template_areas": null,
            "grid_template_columns": null,
            "grid_template_rows": null,
            "height": null,
            "justify_content": null,
            "justify_items": null,
            "left": null,
            "margin": null,
            "max_height": null,
            "max_width": null,
            "min_height": null,
            "min_width": null,
            "object_fit": null,
            "object_position": null,
            "order": null,
            "overflow": null,
            "overflow_x": null,
            "overflow_y": null,
            "padding": null,
            "right": null,
            "top": null,
            "visibility": null,
            "width": null
          }
        },
        "4d4f9bd25e9f4bddbf1f580f8de10bea": {
          "model_module": "@jupyter-widgets/base",
          "model_name": "LayoutModel",
          "model_module_version": "1.2.0",
          "state": {
            "_model_module": "@jupyter-widgets/base",
            "_model_module_version": "1.2.0",
            "_model_name": "LayoutModel",
            "_view_count": null,
            "_view_module": "@jupyter-widgets/base",
            "_view_module_version": "1.2.0",
            "_view_name": "LayoutView",
            "align_content": null,
            "align_items": null,
            "align_self": null,
            "border": null,
            "bottom": null,
            "display": null,
            "flex": null,
            "flex_flow": null,
            "grid_area": null,
            "grid_auto_columns": null,
            "grid_auto_flow": null,
            "grid_auto_rows": null,
            "grid_column": null,
            "grid_gap": null,
            "grid_row": null,
            "grid_template_areas": null,
            "grid_template_columns": null,
            "grid_template_rows": null,
            "height": null,
            "justify_content": null,
            "justify_items": null,
            "left": null,
            "margin": null,
            "max_height": null,
            "max_width": null,
            "min_height": null,
            "min_width": null,
            "object_fit": null,
            "object_position": null,
            "order": null,
            "overflow": null,
            "overflow_x": null,
            "overflow_y": null,
            "padding": null,
            "right": null,
            "top": null,
            "visibility": null,
            "width": null
          }
        },
        "92e046eb920d46528288858e886ac682": {
          "model_module": "@jupyter-widgets/controls",
          "model_name": "DescriptionStyleModel",
          "model_module_version": "1.5.0",
          "state": {
            "_model_module": "@jupyter-widgets/controls",
            "_model_module_version": "1.5.0",
            "_model_name": "DescriptionStyleModel",
            "_view_count": null,
            "_view_module": "@jupyter-widgets/base",
            "_view_module_version": "1.2.0",
            "_view_name": "StyleView",
            "description_width": ""
          }
        },
        "507706760d654013b1f8f0a0f88823a1": {
          "model_module": "@jupyter-widgets/base",
          "model_name": "LayoutModel",
          "model_module_version": "1.2.0",
          "state": {
            "_model_module": "@jupyter-widgets/base",
            "_model_module_version": "1.2.0",
            "_model_name": "LayoutModel",
            "_view_count": null,
            "_view_module": "@jupyter-widgets/base",
            "_view_module_version": "1.2.0",
            "_view_name": "LayoutView",
            "align_content": null,
            "align_items": null,
            "align_self": null,
            "border": null,
            "bottom": null,
            "display": null,
            "flex": null,
            "flex_flow": null,
            "grid_area": null,
            "grid_auto_columns": null,
            "grid_auto_flow": null,
            "grid_auto_rows": null,
            "grid_column": null,
            "grid_gap": null,
            "grid_row": null,
            "grid_template_areas": null,
            "grid_template_columns": null,
            "grid_template_rows": null,
            "height": null,
            "justify_content": null,
            "justify_items": null,
            "left": null,
            "margin": null,
            "max_height": null,
            "max_width": null,
            "min_height": null,
            "min_width": null,
            "object_fit": null,
            "object_position": null,
            "order": null,
            "overflow": null,
            "overflow_x": null,
            "overflow_y": null,
            "padding": null,
            "right": null,
            "top": null,
            "visibility": null,
            "width": null
          }
        },
        "f5627368dab540809c54d97c48cf6f4b": {
          "model_module": "@jupyter-widgets/controls",
          "model_name": "ProgressStyleModel",
          "model_module_version": "1.5.0",
          "state": {
            "_model_module": "@jupyter-widgets/controls",
            "_model_module_version": "1.5.0",
            "_model_name": "ProgressStyleModel",
            "_view_count": null,
            "_view_module": "@jupyter-widgets/base",
            "_view_module_version": "1.2.0",
            "_view_name": "StyleView",
            "bar_color": null,
            "description_width": ""
          }
        },
        "fa6f27533d5d4fd9a936ee6ac1fa001f": {
          "model_module": "@jupyter-widgets/base",
          "model_name": "LayoutModel",
          "model_module_version": "1.2.0",
          "state": {
            "_model_module": "@jupyter-widgets/base",
            "_model_module_version": "1.2.0",
            "_model_name": "LayoutModel",
            "_view_count": null,
            "_view_module": "@jupyter-widgets/base",
            "_view_module_version": "1.2.0",
            "_view_name": "LayoutView",
            "align_content": null,
            "align_items": null,
            "align_self": null,
            "border": null,
            "bottom": null,
            "display": null,
            "flex": null,
            "flex_flow": null,
            "grid_area": null,
            "grid_auto_columns": null,
            "grid_auto_flow": null,
            "grid_auto_rows": null,
            "grid_column": null,
            "grid_gap": null,
            "grid_row": null,
            "grid_template_areas": null,
            "grid_template_columns": null,
            "grid_template_rows": null,
            "height": null,
            "justify_content": null,
            "justify_items": null,
            "left": null,
            "margin": null,
            "max_height": null,
            "max_width": null,
            "min_height": null,
            "min_width": null,
            "object_fit": null,
            "object_position": null,
            "order": null,
            "overflow": null,
            "overflow_x": null,
            "overflow_y": null,
            "padding": null,
            "right": null,
            "top": null,
            "visibility": null,
            "width": null
          }
        },
        "d9cb849c5435429f9d7748e0f8a4b27b": {
          "model_module": "@jupyter-widgets/controls",
          "model_name": "DescriptionStyleModel",
          "model_module_version": "1.5.0",
          "state": {
            "_model_module": "@jupyter-widgets/controls",
            "_model_module_version": "1.5.0",
            "_model_name": "DescriptionStyleModel",
            "_view_count": null,
            "_view_module": "@jupyter-widgets/base",
            "_view_module_version": "1.2.0",
            "_view_name": "StyleView",
            "description_width": ""
          }
        },
        "fddf6370229d4273a7e1a6a930a71244": {
          "model_module": "@jupyter-widgets/controls",
          "model_name": "HBoxModel",
          "model_module_version": "1.5.0",
          "state": {
            "_dom_classes": [],
            "_model_module": "@jupyter-widgets/controls",
            "_model_module_version": "1.5.0",
            "_model_name": "HBoxModel",
            "_view_count": null,
            "_view_module": "@jupyter-widgets/controls",
            "_view_module_version": "1.5.0",
            "_view_name": "HBoxView",
            "box_style": "",
            "children": [
              "IPY_MODEL_5810f2ebb1ab45edb49bcb55766592f9",
              "IPY_MODEL_d416841e01cb4559ba06b058daa5fa0d",
              "IPY_MODEL_99959cad21a9474580ffe7e48aea024d"
            ],
            "layout": "IPY_MODEL_fb56e41fc6514cfcbcbf7edb3fd57df3"
          }
        },
        "5810f2ebb1ab45edb49bcb55766592f9": {
          "model_module": "@jupyter-widgets/controls",
          "model_name": "HTMLModel",
          "model_module_version": "1.5.0",
          "state": {
            "_dom_classes": [],
            "_model_module": "@jupyter-widgets/controls",
            "_model_module_version": "1.5.0",
            "_model_name": "HTMLModel",
            "_view_count": null,
            "_view_module": "@jupyter-widgets/controls",
            "_view_module_version": "1.5.0",
            "_view_name": "HTMLView",
            "description": "",
            "description_tooltip": null,
            "layout": "IPY_MODEL_10585114736142c49546391045a84492",
            "placeholder": "​",
            "style": "IPY_MODEL_7b651dae28f9441d874e0f5e55f56275",
            "value": "100%"
          }
        },
        "d416841e01cb4559ba06b058daa5fa0d": {
          "model_module": "@jupyter-widgets/controls",
          "model_name": "FloatProgressModel",
          "model_module_version": "1.5.0",
          "state": {
            "_dom_classes": [],
            "_model_module": "@jupyter-widgets/controls",
            "_model_module_version": "1.5.0",
            "_model_name": "FloatProgressModel",
            "_view_count": null,
            "_view_module": "@jupyter-widgets/controls",
            "_view_module_version": "1.5.0",
            "_view_name": "ProgressView",
            "bar_style": "success",
            "description": "",
            "description_tooltip": null,
            "layout": "IPY_MODEL_942c6078aabc408399e4795754505a3f",
            "max": 3,
            "min": 0,
            "orientation": "horizontal",
            "style": "IPY_MODEL_57e4d62abb5e4b578f13fb4b29857b67",
            "value": 3
          }
        },
        "99959cad21a9474580ffe7e48aea024d": {
          "model_module": "@jupyter-widgets/controls",
          "model_name": "HTMLModel",
          "model_module_version": "1.5.0",
          "state": {
            "_dom_classes": [],
            "_model_module": "@jupyter-widgets/controls",
            "_model_module_version": "1.5.0",
            "_model_name": "HTMLModel",
            "_view_count": null,
            "_view_module": "@jupyter-widgets/controls",
            "_view_module_version": "1.5.0",
            "_view_name": "HTMLView",
            "description": "",
            "description_tooltip": null,
            "layout": "IPY_MODEL_072d36ac442b4778888b98f146b4af7a",
            "placeholder": "​",
            "style": "IPY_MODEL_5812387af0074f0db41c9068bb0c7280",
            "value": " 3/3 [00:01&lt;00:00,  1.07it/s]"
          }
        },
        "fb56e41fc6514cfcbcbf7edb3fd57df3": {
          "model_module": "@jupyter-widgets/base",
          "model_name": "LayoutModel",
          "model_module_version": "1.2.0",
          "state": {
            "_model_module": "@jupyter-widgets/base",
            "_model_module_version": "1.2.0",
            "_model_name": "LayoutModel",
            "_view_count": null,
            "_view_module": "@jupyter-widgets/base",
            "_view_module_version": "1.2.0",
            "_view_name": "LayoutView",
            "align_content": null,
            "align_items": null,
            "align_self": null,
            "border": null,
            "bottom": null,
            "display": null,
            "flex": null,
            "flex_flow": null,
            "grid_area": null,
            "grid_auto_columns": null,
            "grid_auto_flow": null,
            "grid_auto_rows": null,
            "grid_column": null,
            "grid_gap": null,
            "grid_row": null,
            "grid_template_areas": null,
            "grid_template_columns": null,
            "grid_template_rows": null,
            "height": null,
            "justify_content": null,
            "justify_items": null,
            "left": null,
            "margin": null,
            "max_height": null,
            "max_width": null,
            "min_height": null,
            "min_width": null,
            "object_fit": null,
            "object_position": null,
            "order": null,
            "overflow": null,
            "overflow_x": null,
            "overflow_y": null,
            "padding": null,
            "right": null,
            "top": null,
            "visibility": null,
            "width": null
          }
        },
        "10585114736142c49546391045a84492": {
          "model_module": "@jupyter-widgets/base",
          "model_name": "LayoutModel",
          "model_module_version": "1.2.0",
          "state": {
            "_model_module": "@jupyter-widgets/base",
            "_model_module_version": "1.2.0",
            "_model_name": "LayoutModel",
            "_view_count": null,
            "_view_module": "@jupyter-widgets/base",
            "_view_module_version": "1.2.0",
            "_view_name": "LayoutView",
            "align_content": null,
            "align_items": null,
            "align_self": null,
            "border": null,
            "bottom": null,
            "display": null,
            "flex": null,
            "flex_flow": null,
            "grid_area": null,
            "grid_auto_columns": null,
            "grid_auto_flow": null,
            "grid_auto_rows": null,
            "grid_column": null,
            "grid_gap": null,
            "grid_row": null,
            "grid_template_areas": null,
            "grid_template_columns": null,
            "grid_template_rows": null,
            "height": null,
            "justify_content": null,
            "justify_items": null,
            "left": null,
            "margin": null,
            "max_height": null,
            "max_width": null,
            "min_height": null,
            "min_width": null,
            "object_fit": null,
            "object_position": null,
            "order": null,
            "overflow": null,
            "overflow_x": null,
            "overflow_y": null,
            "padding": null,
            "right": null,
            "top": null,
            "visibility": null,
            "width": null
          }
        },
        "7b651dae28f9441d874e0f5e55f56275": {
          "model_module": "@jupyter-widgets/controls",
          "model_name": "DescriptionStyleModel",
          "model_module_version": "1.5.0",
          "state": {
            "_model_module": "@jupyter-widgets/controls",
            "_model_module_version": "1.5.0",
            "_model_name": "DescriptionStyleModel",
            "_view_count": null,
            "_view_module": "@jupyter-widgets/base",
            "_view_module_version": "1.2.0",
            "_view_name": "StyleView",
            "description_width": ""
          }
        },
        "942c6078aabc408399e4795754505a3f": {
          "model_module": "@jupyter-widgets/base",
          "model_name": "LayoutModel",
          "model_module_version": "1.2.0",
          "state": {
            "_model_module": "@jupyter-widgets/base",
            "_model_module_version": "1.2.0",
            "_model_name": "LayoutModel",
            "_view_count": null,
            "_view_module": "@jupyter-widgets/base",
            "_view_module_version": "1.2.0",
            "_view_name": "LayoutView",
            "align_content": null,
            "align_items": null,
            "align_self": null,
            "border": null,
            "bottom": null,
            "display": null,
            "flex": null,
            "flex_flow": null,
            "grid_area": null,
            "grid_auto_columns": null,
            "grid_auto_flow": null,
            "grid_auto_rows": null,
            "grid_column": null,
            "grid_gap": null,
            "grid_row": null,
            "grid_template_areas": null,
            "grid_template_columns": null,
            "grid_template_rows": null,
            "height": null,
            "justify_content": null,
            "justify_items": null,
            "left": null,
            "margin": null,
            "max_height": null,
            "max_width": null,
            "min_height": null,
            "min_width": null,
            "object_fit": null,
            "object_position": null,
            "order": null,
            "overflow": null,
            "overflow_x": null,
            "overflow_y": null,
            "padding": null,
            "right": null,
            "top": null,
            "visibility": null,
            "width": null
          }
        },
        "57e4d62abb5e4b578f13fb4b29857b67": {
          "model_module": "@jupyter-widgets/controls",
          "model_name": "ProgressStyleModel",
          "model_module_version": "1.5.0",
          "state": {
            "_model_module": "@jupyter-widgets/controls",
            "_model_module_version": "1.5.0",
            "_model_name": "ProgressStyleModel",
            "_view_count": null,
            "_view_module": "@jupyter-widgets/base",
            "_view_module_version": "1.2.0",
            "_view_name": "StyleView",
            "bar_color": null,
            "description_width": ""
          }
        },
        "072d36ac442b4778888b98f146b4af7a": {
          "model_module": "@jupyter-widgets/base",
          "model_name": "LayoutModel",
          "model_module_version": "1.2.0",
          "state": {
            "_model_module": "@jupyter-widgets/base",
            "_model_module_version": "1.2.0",
            "_model_name": "LayoutModel",
            "_view_count": null,
            "_view_module": "@jupyter-widgets/base",
            "_view_module_version": "1.2.0",
            "_view_name": "LayoutView",
            "align_content": null,
            "align_items": null,
            "align_self": null,
            "border": null,
            "bottom": null,
            "display": null,
            "flex": null,
            "flex_flow": null,
            "grid_area": null,
            "grid_auto_columns": null,
            "grid_auto_flow": null,
            "grid_auto_rows": null,
            "grid_column": null,
            "grid_gap": null,
            "grid_row": null,
            "grid_template_areas": null,
            "grid_template_columns": null,
            "grid_template_rows": null,
            "height": null,
            "justify_content": null,
            "justify_items": null,
            "left": null,
            "margin": null,
            "max_height": null,
            "max_width": null,
            "min_height": null,
            "min_width": null,
            "object_fit": null,
            "object_position": null,
            "order": null,
            "overflow": null,
            "overflow_x": null,
            "overflow_y": null,
            "padding": null,
            "right": null,
            "top": null,
            "visibility": null,
            "width": null
          }
        },
        "5812387af0074f0db41c9068bb0c7280": {
          "model_module": "@jupyter-widgets/controls",
          "model_name": "DescriptionStyleModel",
          "model_module_version": "1.5.0",
          "state": {
            "_model_module": "@jupyter-widgets/controls",
            "_model_module_version": "1.5.0",
            "_model_name": "DescriptionStyleModel",
            "_view_count": null,
            "_view_module": "@jupyter-widgets/base",
            "_view_module_version": "1.2.0",
            "_view_name": "StyleView",
            "description_width": ""
          }
        }
      }
    }
  },
  "cells": [
    {
      "cell_type": "code",
      "execution_count": 78,
      "metadata": {
        "colab": {
          "base_uri": "https://localhost:8080/"
        },
        "id": "TQ-UQngRU-rA",
        "outputId": "85f81c8d-6be5-4999-cfa6-faece3caa7ff"
      },
      "outputs": [
        {
          "output_type": "stream",
          "name": "stdout",
          "text": [
            "Drive already mounted at /content/drive; to attempt to forcibly remount, call drive.mount(\"/content/drive\", force_remount=True).\n"
          ]
        }
      ],
      "source": [
        "from google.colab import drive\n",
        "drive.mount('/content/drive')"
      ]
    },
    {
      "cell_type": "code",
      "source": [
        "import zipfile\n",
        "import os"
      ],
      "metadata": {
        "id": "w95DkssDVUIC"
      },
      "execution_count": 79,
      "outputs": []
    },
    {
      "cell_type": "code",
      "source": [
        "# Extract the data zipped folder\n",
        "zip_data = zipfile.ZipFile('/content/drive/MyDrive/לימודים/פרויקט גמר/oily-dry-normal.zip')\n",
        "zip_data.extractall('/temp')\n",
        "zip_data.close()\n",
        "zip_data = zipfile.ZipFile('/content/drive/MyDrive/לימודים/פרויקט גמר/data.zip')\n",
        "zip_data.extractall('/temp')\n",
        "zip_data.close()"
      ],
      "metadata": {
        "id": "rn8ojlTuVUgF"
      },
      "execution_count": 103,
      "outputs": []
    },
    {
      "cell_type": "code",
      "source": [
        "%%capture\n",
        "!pip install torchinfo\n",
        "\n",
        "# Data handling\n",
        "import pandas as pd\n",
        "import numpy as np\n",
        "\n",
        "# Data visualization\n",
        "import matplotlib.pyplot as plt\n",
        "import seaborn as sns\n",
        "import cv2\n",
        "from PIL import Image\n",
        "\n",
        "# Preprocessing\n",
        "from sklearn.model_selection import train_test_split\n",
        "\n",
        "# Torch\n",
        "import torch\n",
        "from torch import nn, optim\n",
        "from torch.utils.data import Dataset, DataLoader\n",
        "from torchinfo import summary\n",
        "from torchvision.models import vit_b_16, ViT_B_16_Weights\n",
        "\n",
        "# Metrics\n",
        "from sklearn.metrics import accuracy_score\n",
        "from sklearn.metrics import confusion_matrix, classification_report\n",
        "\n",
        "# os\n",
        "import os\n",
        "\n",
        "# OrderedDict\n",
        "from collections import OrderedDict\n",
        "\n",
        "# tqdm\n",
        "from tqdm.auto import tqdm\n",
        "\n",
        "# Path\n",
        "from pathlib import Path\n",
        "\n",
        "# random\n",
        "import random\n",
        "\n",
        "# typing\n",
        "from typing import Dict, List\n",
        "\n",
        "# warnings\n",
        "import warnings\n",
        "warnings.filterwarnings(\"ignore\")"
      ],
      "metadata": {
        "id": "hmDLro12WSYh"
      },
      "execution_count": 104,
      "outputs": []
    },
    {
      "cell_type": "code",
      "source": [
        "def get_image_path_and_label_paires(data_path):\n",
        "  IMAGE_PATH_LIST = list(Path(data_path).glob(\"*/*.jpg\"))\n",
        "  print(f'Total Images = {len(IMAGE_PATH_LIST)}')\n",
        "\n",
        "  classes = os.listdir(Path(data_path))\n",
        "  classes = sorted(classes)\n",
        "  print(\"classes: \", classes)\n",
        "  for c in classes:\n",
        "    total_images_class = list(Path(os.path.join(Path(data_path), c)).glob(\"*.jpg\"))\n",
        "    print(f\"* {c}: {len(total_images_class)} images\")\n",
        "\n",
        "  images_path = [None] * len(IMAGE_PATH_LIST)\n",
        "  labels = [None] * len(IMAGE_PATH_LIST)\n",
        "\n",
        "  for i,image_path in enumerate(IMAGE_PATH_LIST):\n",
        "      images_path[i] = image_path\n",
        "      labels[i] = image_path.parent.stem\n",
        "\n",
        "  df_path_and_label = pd.DataFrame({'path':images_path,\n",
        "                                    'label':labels})\n",
        "  return df_path_and_label\n",
        "\n",
        "paires= get_image_path_and_label_paires('/temp')\n",
        "paires.head()"
      ],
      "metadata": {
        "colab": {
          "base_uri": "https://localhost:8080/",
          "height": 379
        },
        "id": "1Drilw3LbqwR",
        "outputId": "0c255931-126e-4ca4-c095-40d5cdbc7ac0"
      },
      "execution_count": 105,
      "outputs": [
        {
          "output_type": "stream",
          "name": "stdout",
          "text": [
            "Total Images = 2837\n",
            "classes:  ['Dark Circle', 'Dry Skin', 'Melasma', 'Normal Skin', 'Oily Skin', 'pustule', 'skin-pore', 'wrinkle']\n",
            "* Dark Circle: 200 images\n",
            "* Dry Skin: 455 images\n",
            "* Melasma: 301 images\n",
            "* Normal Skin: 221 images\n",
            "* Oily Skin: 255 images\n",
            "* pustule: 696 images\n",
            "* skin-pore: 444 images\n",
            "* wrinkle: 265 images\n"
          ]
        },
        {
          "output_type": "execute_result",
          "data": {
            "text/plain": [
              "                                                path     label\n",
              "0  /temp/Dry Skin/Kering-25-_jpeg_jpg.rf.b9d82a15...  Dry Skin\n",
              "1  /temp/Dry Skin/berminyak__-21-_jpg.rf.cc617e9b...  Dry Skin\n",
              "2  /temp/Dry Skin/Kering-14-_jpeg_jpg.rf.f6c6244a...  Dry Skin\n",
              "3  /temp/Dry Skin/kering-48-_jpg.rf.f934699184c22...  Dry Skin\n",
              "4  /temp/Dry Skin/kering__-89-_jpg.rf.74abbf818b9...  Dry Skin"
            ],
            "text/html": [
              "\n",
              "  <div id=\"df-4905c2e0-5e94-420a-b075-c002dbd9672a\" class=\"colab-df-container\">\n",
              "    <div>\n",
              "<style scoped>\n",
              "    .dataframe tbody tr th:only-of-type {\n",
              "        vertical-align: middle;\n",
              "    }\n",
              "\n",
              "    .dataframe tbody tr th {\n",
              "        vertical-align: top;\n",
              "    }\n",
              "\n",
              "    .dataframe thead th {\n",
              "        text-align: right;\n",
              "    }\n",
              "</style>\n",
              "<table border=\"1\" class=\"dataframe\">\n",
              "  <thead>\n",
              "    <tr style=\"text-align: right;\">\n",
              "      <th></th>\n",
              "      <th>path</th>\n",
              "      <th>label</th>\n",
              "    </tr>\n",
              "  </thead>\n",
              "  <tbody>\n",
              "    <tr>\n",
              "      <th>0</th>\n",
              "      <td>/temp/Dry Skin/Kering-25-_jpeg_jpg.rf.b9d82a15...</td>\n",
              "      <td>Dry Skin</td>\n",
              "    </tr>\n",
              "    <tr>\n",
              "      <th>1</th>\n",
              "      <td>/temp/Dry Skin/berminyak__-21-_jpg.rf.cc617e9b...</td>\n",
              "      <td>Dry Skin</td>\n",
              "    </tr>\n",
              "    <tr>\n",
              "      <th>2</th>\n",
              "      <td>/temp/Dry Skin/Kering-14-_jpeg_jpg.rf.f6c6244a...</td>\n",
              "      <td>Dry Skin</td>\n",
              "    </tr>\n",
              "    <tr>\n",
              "      <th>3</th>\n",
              "      <td>/temp/Dry Skin/kering-48-_jpg.rf.f934699184c22...</td>\n",
              "      <td>Dry Skin</td>\n",
              "    </tr>\n",
              "    <tr>\n",
              "      <th>4</th>\n",
              "      <td>/temp/Dry Skin/kering__-89-_jpg.rf.74abbf818b9...</td>\n",
              "      <td>Dry Skin</td>\n",
              "    </tr>\n",
              "  </tbody>\n",
              "</table>\n",
              "</div>\n",
              "    <div class=\"colab-df-buttons\">\n",
              "\n",
              "  <div class=\"colab-df-container\">\n",
              "    <button class=\"colab-df-convert\" onclick=\"convertToInteractive('df-4905c2e0-5e94-420a-b075-c002dbd9672a')\"\n",
              "            title=\"Convert this dataframe to an interactive table.\"\n",
              "            style=\"display:none;\">\n",
              "\n",
              "  <svg xmlns=\"http://www.w3.org/2000/svg\" height=\"24px\" viewBox=\"0 -960 960 960\">\n",
              "    <path d=\"M120-120v-720h720v720H120Zm60-500h600v-160H180v160Zm220 220h160v-160H400v160Zm0 220h160v-160H400v160ZM180-400h160v-160H180v160Zm440 0h160v-160H620v160ZM180-180h160v-160H180v160Zm440 0h160v-160H620v160Z\"/>\n",
              "  </svg>\n",
              "    </button>\n",
              "\n",
              "  <style>\n",
              "    .colab-df-container {\n",
              "      display:flex;\n",
              "      gap: 12px;\n",
              "    }\n",
              "\n",
              "    .colab-df-convert {\n",
              "      background-color: #E8F0FE;\n",
              "      border: none;\n",
              "      border-radius: 50%;\n",
              "      cursor: pointer;\n",
              "      display: none;\n",
              "      fill: #1967D2;\n",
              "      height: 32px;\n",
              "      padding: 0 0 0 0;\n",
              "      width: 32px;\n",
              "    }\n",
              "\n",
              "    .colab-df-convert:hover {\n",
              "      background-color: #E2EBFA;\n",
              "      box-shadow: 0px 1px 2px rgba(60, 64, 67, 0.3), 0px 1px 3px 1px rgba(60, 64, 67, 0.15);\n",
              "      fill: #174EA6;\n",
              "    }\n",
              "\n",
              "    .colab-df-buttons div {\n",
              "      margin-bottom: 4px;\n",
              "    }\n",
              "\n",
              "    [theme=dark] .colab-df-convert {\n",
              "      background-color: #3B4455;\n",
              "      fill: #D2E3FC;\n",
              "    }\n",
              "\n",
              "    [theme=dark] .colab-df-convert:hover {\n",
              "      background-color: #434B5C;\n",
              "      box-shadow: 0px 1px 3px 1px rgba(0, 0, 0, 0.15);\n",
              "      filter: drop-shadow(0px 1px 2px rgba(0, 0, 0, 0.3));\n",
              "      fill: #FFFFFF;\n",
              "    }\n",
              "  </style>\n",
              "\n",
              "    <script>\n",
              "      const buttonEl =\n",
              "        document.querySelector('#df-4905c2e0-5e94-420a-b075-c002dbd9672a button.colab-df-convert');\n",
              "      buttonEl.style.display =\n",
              "        google.colab.kernel.accessAllowed ? 'block' : 'none';\n",
              "\n",
              "      async function convertToInteractive(key) {\n",
              "        const element = document.querySelector('#df-4905c2e0-5e94-420a-b075-c002dbd9672a');\n",
              "        const dataTable =\n",
              "          await google.colab.kernel.invokeFunction('convertToInteractive',\n",
              "                                                    [key], {});\n",
              "        if (!dataTable) return;\n",
              "\n",
              "        const docLinkHtml = 'Like what you see? Visit the ' +\n",
              "          '<a target=\"_blank\" href=https://colab.research.google.com/notebooks/data_table.ipynb>data table notebook</a>'\n",
              "          + ' to learn more about interactive tables.';\n",
              "        element.innerHTML = '';\n",
              "        dataTable['output_type'] = 'display_data';\n",
              "        await google.colab.output.renderOutput(dataTable, element);\n",
              "        const docLink = document.createElement('div');\n",
              "        docLink.innerHTML = docLinkHtml;\n",
              "        element.appendChild(docLink);\n",
              "      }\n",
              "    </script>\n",
              "  </div>\n",
              "\n",
              "\n",
              "<div id=\"df-0f729b43-d5b1-430b-b40f-2325d0f8df96\">\n",
              "  <button class=\"colab-df-quickchart\" onclick=\"quickchart('df-0f729b43-d5b1-430b-b40f-2325d0f8df96')\"\n",
              "            title=\"Suggest charts\"\n",
              "            style=\"display:none;\">\n",
              "\n",
              "<svg xmlns=\"http://www.w3.org/2000/svg\" height=\"24px\"viewBox=\"0 0 24 24\"\n",
              "     width=\"24px\">\n",
              "    <g>\n",
              "        <path d=\"M19 3H5c-1.1 0-2 .9-2 2v14c0 1.1.9 2 2 2h14c1.1 0 2-.9 2-2V5c0-1.1-.9-2-2-2zM9 17H7v-7h2v7zm4 0h-2V7h2v10zm4 0h-2v-4h2v4z\"/>\n",
              "    </g>\n",
              "</svg>\n",
              "  </button>\n",
              "\n",
              "<style>\n",
              "  .colab-df-quickchart {\n",
              "      --bg-color: #E8F0FE;\n",
              "      --fill-color: #1967D2;\n",
              "      --hover-bg-color: #E2EBFA;\n",
              "      --hover-fill-color: #174EA6;\n",
              "      --disabled-fill-color: #AAA;\n",
              "      --disabled-bg-color: #DDD;\n",
              "  }\n",
              "\n",
              "  [theme=dark] .colab-df-quickchart {\n",
              "      --bg-color: #3B4455;\n",
              "      --fill-color: #D2E3FC;\n",
              "      --hover-bg-color: #434B5C;\n",
              "      --hover-fill-color: #FFFFFF;\n",
              "      --disabled-bg-color: #3B4455;\n",
              "      --disabled-fill-color: #666;\n",
              "  }\n",
              "\n",
              "  .colab-df-quickchart {\n",
              "    background-color: var(--bg-color);\n",
              "    border: none;\n",
              "    border-radius: 50%;\n",
              "    cursor: pointer;\n",
              "    display: none;\n",
              "    fill: var(--fill-color);\n",
              "    height: 32px;\n",
              "    padding: 0;\n",
              "    width: 32px;\n",
              "  }\n",
              "\n",
              "  .colab-df-quickchart:hover {\n",
              "    background-color: var(--hover-bg-color);\n",
              "    box-shadow: 0 1px 2px rgba(60, 64, 67, 0.3), 0 1px 3px 1px rgba(60, 64, 67, 0.15);\n",
              "    fill: var(--button-hover-fill-color);\n",
              "  }\n",
              "\n",
              "  .colab-df-quickchart-complete:disabled,\n",
              "  .colab-df-quickchart-complete:disabled:hover {\n",
              "    background-color: var(--disabled-bg-color);\n",
              "    fill: var(--disabled-fill-color);\n",
              "    box-shadow: none;\n",
              "  }\n",
              "\n",
              "  .colab-df-spinner {\n",
              "    border: 2px solid var(--fill-color);\n",
              "    border-color: transparent;\n",
              "    border-bottom-color: var(--fill-color);\n",
              "    animation:\n",
              "      spin 1s steps(1) infinite;\n",
              "  }\n",
              "\n",
              "  @keyframes spin {\n",
              "    0% {\n",
              "      border-color: transparent;\n",
              "      border-bottom-color: var(--fill-color);\n",
              "      border-left-color: var(--fill-color);\n",
              "    }\n",
              "    20% {\n",
              "      border-color: transparent;\n",
              "      border-left-color: var(--fill-color);\n",
              "      border-top-color: var(--fill-color);\n",
              "    }\n",
              "    30% {\n",
              "      border-color: transparent;\n",
              "      border-left-color: var(--fill-color);\n",
              "      border-top-color: var(--fill-color);\n",
              "      border-right-color: var(--fill-color);\n",
              "    }\n",
              "    40% {\n",
              "      border-color: transparent;\n",
              "      border-right-color: var(--fill-color);\n",
              "      border-top-color: var(--fill-color);\n",
              "    }\n",
              "    60% {\n",
              "      border-color: transparent;\n",
              "      border-right-color: var(--fill-color);\n",
              "    }\n",
              "    80% {\n",
              "      border-color: transparent;\n",
              "      border-right-color: var(--fill-color);\n",
              "      border-bottom-color: var(--fill-color);\n",
              "    }\n",
              "    90% {\n",
              "      border-color: transparent;\n",
              "      border-bottom-color: var(--fill-color);\n",
              "    }\n",
              "  }\n",
              "</style>\n",
              "\n",
              "  <script>\n",
              "    async function quickchart(key) {\n",
              "      const quickchartButtonEl =\n",
              "        document.querySelector('#' + key + ' button');\n",
              "      quickchartButtonEl.disabled = true;  // To prevent multiple clicks.\n",
              "      quickchartButtonEl.classList.add('colab-df-spinner');\n",
              "      try {\n",
              "        const charts = await google.colab.kernel.invokeFunction(\n",
              "            'suggestCharts', [key], {});\n",
              "      } catch (error) {\n",
              "        console.error('Error during call to suggestCharts:', error);\n",
              "      }\n",
              "      quickchartButtonEl.classList.remove('colab-df-spinner');\n",
              "      quickchartButtonEl.classList.add('colab-df-quickchart-complete');\n",
              "    }\n",
              "    (() => {\n",
              "      let quickchartButtonEl =\n",
              "        document.querySelector('#df-0f729b43-d5b1-430b-b40f-2325d0f8df96 button');\n",
              "      quickchartButtonEl.style.display =\n",
              "        google.colab.kernel.accessAllowed ? 'block' : 'none';\n",
              "    })();\n",
              "  </script>\n",
              "</div>\n",
              "\n",
              "    </div>\n",
              "  </div>\n"
            ],
            "application/vnd.google.colaboratory.intrinsic+json": {
              "type": "dataframe",
              "variable_name": "paires",
              "summary": "{\n  \"name\": \"paires\",\n  \"rows\": 2837,\n  \"fields\": [\n    {\n      \"column\": \"path\",\n      \"properties\": {\n        \"dtype\": \"string\",\n        \"num_unique_values\": 2837,\n        \"samples\": [\n          \"/temp/Dry Skin/Kering-10-_JPG_jpg.rf.0b928a5a92b1530cb721b5451a77c1ae.jpg\",\n          \"/temp/pustule/levle3_72_jpg.rf.b2e2af9a47f8c96977ad3adcd790bdd7.jpg\",\n          \"/temp/pustule/levle2_109_jpg.rf.f352c1d879316efbd8a38cfaf3f2f542.jpg\"\n        ],\n        \"semantic_type\": \"\",\n        \"description\": \"\"\n      }\n    },\n    {\n      \"column\": \"label\",\n      \"properties\": {\n        \"dtype\": \"category\",\n        \"num_unique_values\": 8,\n        \"samples\": [\n          \"Melasma\",\n          \"skin-pore\",\n          \"Dry Skin\"\n        ],\n        \"semantic_type\": \"\",\n        \"description\": \"\"\n      }\n    }\n  ]\n}"
            }
          },
          "metadata": {},
          "execution_count": 105
        }
      ]
    },
    {
      "cell_type": "code",
      "source": [
        "# Shuffle\n",
        "SEED=123\n",
        "\n",
        "paires = paires.sample(frac=1, random_state=123)\n",
        "\n",
        "train_paires, df_rest = train_test_split(paires,\n",
        "                        test_size = 0.3,\n",
        "                        random_state = SEED,\n",
        "                        stratify = paires[\"label\"])\n",
        "\n",
        "valid_paires, test_paires = train_test_split(df_rest,\n",
        "                      test_size = 0.5,\n",
        "                      random_state = SEED,\n",
        "                      stratify = df_rest[\"label\"])"
      ],
      "metadata": {
        "id": "HbIidWbybjA9"
      },
      "execution_count": 106,
      "outputs": []
    },
    {
      "cell_type": "code",
      "source": [
        "classes=['Dark Circle', 'Dry Skin', 'Melasma', 'Normal Skin', 'Oily Skin', 'pustule', 'skin-pore', 'wrinkle']\n",
        "label_map = dict(zip(classes, range(0, len(classes))))\n",
        "label_map"
      ],
      "metadata": {
        "id": "B9wIPFb-cx8Z",
        "colab": {
          "base_uri": "https://localhost:8080/"
        },
        "outputId": "b40b7924-3b69-4b5e-8e8a-869ecde33514"
      },
      "execution_count": 107,
      "outputs": [
        {
          "output_type": "execute_result",
          "data": {
            "text/plain": [
              "{'Dark Circle': 0,\n",
              " 'Dry Skin': 1,\n",
              " 'Melasma': 2,\n",
              " 'Normal Skin': 3,\n",
              " 'Oily Skin': 4,\n",
              " 'pustule': 5,\n",
              " 'skin-pore': 6,\n",
              " 'wrinkle': 7}"
            ]
          },
          "metadata": {},
          "execution_count": 107
        }
      ]
    },
    {
      "cell_type": "code",
      "source": [
        "weights = ViT_B_16_Weights.DEFAULT\n",
        "auto_transforms = weights.transforms()\n",
        "auto_transforms"
      ],
      "metadata": {
        "colab": {
          "base_uri": "https://localhost:8080/"
        },
        "id": "7t1hzsWalbue",
        "outputId": "de560733-5b2a-4986-a263-48b61307de6a"
      },
      "execution_count": 108,
      "outputs": [
        {
          "output_type": "execute_result",
          "data": {
            "text/plain": [
              "ImageClassification(\n",
              "    crop_size=[224]\n",
              "    resize_size=[256]\n",
              "    mean=[0.485, 0.456, 0.406]\n",
              "    std=[0.229, 0.224, 0.225]\n",
              "    interpolation=InterpolationMode.BILINEAR\n",
              ")"
            ]
          },
          "metadata": {},
          "execution_count": 108
        }
      ]
    },
    {
      "cell_type": "code",
      "source": [
        "class CustomDataset(Dataset):\n",
        "    def __init__(self, df:pd.DataFrame, transforms, label_map:dict):\n",
        "        self.df = df\n",
        "        self.transforms = transforms\n",
        "        self.label_map = label_map\n",
        "\n",
        "    def __len__(self):\n",
        "        return len(self.df)\n",
        "\n",
        "    def __getitem__(self, idx):\n",
        "        df_new = self.df.copy()\n",
        "        df_new = df_new.reset_index(drop = True)\n",
        "        df_new[\"label\"] = df_new[\"label\"].map(self.label_map)\n",
        "        image_path = df_new.iloc[idx, 0]\n",
        "        image = Image.open(image_path).convert(\"RGB\")\n",
        "        image = self.transforms(image)\n",
        "        label = df_new.iloc[idx, 1]\n",
        "\n",
        "        return image,label"
      ],
      "metadata": {
        "id": "fPvRbsMmlnOs"
      },
      "execution_count": 109,
      "outputs": []
    },
    {
      "cell_type": "code",
      "source": [
        "train_dataset = CustomDataset(train_paires, auto_transforms, label_map)\n",
        "valid_dataset = CustomDataset(valid_paires, auto_transforms, label_map)"
      ],
      "metadata": {
        "id": "XUq4JICZl1YL"
      },
      "execution_count": 110,
      "outputs": []
    },
    {
      "cell_type": "code",
      "source": [
        "BATCH_SIZE = 100\n",
        "NUM_WORKERS = os.cpu_count()\n",
        "\n",
        "train_dataloader = DataLoader(dataset = train_dataset,\n",
        "                              batch_size = BATCH_SIZE,\n",
        "                              shuffle = True,\n",
        "                              num_workers = NUM_WORKERS)\n",
        "valid_dataloader = DataLoader(dataset = valid_dataset,\n",
        "                              batch_size = BATCH_SIZE,\n",
        "                              shuffle = True,\n",
        "                              num_workers = NUM_WORKERS)"
      ],
      "metadata": {
        "id": "plh_7FVSmAGH"
      },
      "execution_count": 111,
      "outputs": []
    },
    {
      "cell_type": "code",
      "source": [
        "batch_images, batch_labels = next(iter(train_dataloader))\n",
        "\n",
        "batch_images.shape, batch_labels.shape"
      ],
      "metadata": {
        "colab": {
          "base_uri": "https://localhost:8080/"
        },
        "id": "PJRUV9q_mOYv",
        "outputId": "c4519943-06f4-4f6f-9426-6f47140a0573"
      },
      "execution_count": 112,
      "outputs": [
        {
          "output_type": "execute_result",
          "data": {
            "text/plain": [
              "(torch.Size([100, 3, 224, 224]), torch.Size([100]))"
            ]
          },
          "metadata": {},
          "execution_count": 112
        }
      ]
    },
    {
      "cell_type": "code",
      "source": [
        "device = \"cuda\" if torch.cuda.is_available() else \"cpu\"\n",
        "device"
      ],
      "metadata": {
        "colab": {
          "base_uri": "https://localhost:8080/",
          "height": 35
        },
        "id": "5WD6vArQmXVK",
        "outputId": "a95f21be-f3c3-4369-ec94-2c25fbee3881"
      },
      "execution_count": 113,
      "outputs": [
        {
          "output_type": "execute_result",
          "data": {
            "text/plain": [
              "'cuda'"
            ],
            "application/vnd.google.colaboratory.intrinsic+json": {
              "type": "string"
            }
          },
          "metadata": {},
          "execution_count": 113
        }
      ]
    },
    {
      "cell_type": "code",
      "source": [
        "model = vit_b_16(weights = weights)"
      ],
      "metadata": {
        "id": "UuuAwkpwm6Fd"
      },
      "execution_count": 114,
      "outputs": []
    },
    {
      "cell_type": "code",
      "source": [
        "summary(model = model,\n",
        "        input_size = [1, 3, 224, 224],\n",
        "        col_names = [\"input_size\", \"output_size\", \"num_params\", \"trainable\"],\n",
        "        col_width = 15,\n",
        "        row_settings = [\"var_names\"])"
      ],
      "metadata": {
        "colab": {
          "base_uri": "https://localhost:8080/"
        },
        "id": "u-Q2BVTJm6l8",
        "outputId": "246fea15-8192-4c17-f685-51dbc1aa2c54"
      },
      "execution_count": 115,
      "outputs": [
        {
          "output_type": "execute_result",
          "data": {
            "text/plain": [
              "========================================================================================================================\n",
              "Layer (type (var_name))                                      Input Shape     Output Shape    Param #         Trainable\n",
              "========================================================================================================================\n",
              "VisionTransformer (VisionTransformer)                        [1, 3, 224, 224] [1, 1000]       768             True\n",
              "├─Conv2d (conv_proj)                                         [1, 3, 224, 224] [1, 768, 14, 14] 590,592         True\n",
              "├─Encoder (encoder)                                          [1, 197, 768]   [1, 197, 768]   151,296         True\n",
              "│    └─Dropout (dropout)                                     [1, 197, 768]   [1, 197, 768]   --              --\n",
              "│    └─Sequential (layers)                                   [1, 197, 768]   [1, 197, 768]   --              True\n",
              "│    │    └─EncoderBlock (encoder_layer_0)                   [1, 197, 768]   [1, 197, 768]   7,087,872       True\n",
              "│    │    └─EncoderBlock (encoder_layer_1)                   [1, 197, 768]   [1, 197, 768]   7,087,872       True\n",
              "│    │    └─EncoderBlock (encoder_layer_2)                   [1, 197, 768]   [1, 197, 768]   7,087,872       True\n",
              "│    │    └─EncoderBlock (encoder_layer_3)                   [1, 197, 768]   [1, 197, 768]   7,087,872       True\n",
              "│    │    └─EncoderBlock (encoder_layer_4)                   [1, 197, 768]   [1, 197, 768]   7,087,872       True\n",
              "│    │    └─EncoderBlock (encoder_layer_5)                   [1, 197, 768]   [1, 197, 768]   7,087,872       True\n",
              "│    │    └─EncoderBlock (encoder_layer_6)                   [1, 197, 768]   [1, 197, 768]   7,087,872       True\n",
              "│    │    └─EncoderBlock (encoder_layer_7)                   [1, 197, 768]   [1, 197, 768]   7,087,872       True\n",
              "│    │    └─EncoderBlock (encoder_layer_8)                   [1, 197, 768]   [1, 197, 768]   7,087,872       True\n",
              "│    │    └─EncoderBlock (encoder_layer_9)                   [1, 197, 768]   [1, 197, 768]   7,087,872       True\n",
              "│    │    └─EncoderBlock (encoder_layer_10)                  [1, 197, 768]   [1, 197, 768]   7,087,872       True\n",
              "│    │    └─EncoderBlock (encoder_layer_11)                  [1, 197, 768]   [1, 197, 768]   7,087,872       True\n",
              "│    └─LayerNorm (ln)                                        [1, 197, 768]   [1, 197, 768]   1,536           True\n",
              "├─Sequential (heads)                                         [1, 768]        [1, 1000]       --              True\n",
              "│    └─Linear (head)                                         [1, 768]        [1, 1000]       769,000         True\n",
              "========================================================================================================================\n",
              "Total params: 86,567,656\n",
              "Trainable params: 86,567,656\n",
              "Non-trainable params: 0\n",
              "Total mult-adds (M): 173.23\n",
              "========================================================================================================================\n",
              "Input size (MB): 0.60\n",
              "Forward/backward pass size (MB): 104.09\n",
              "Params size (MB): 232.27\n",
              "Estimated Total Size (MB): 336.96\n",
              "========================================================================================================================"
            ]
          },
          "metadata": {},
          "execution_count": 115
        }
      ]
    },
    {
      "cell_type": "code",
      "source": [
        "for param in model.conv_proj.parameters():\n",
        "    param.requires_grad = False"
      ],
      "metadata": {
        "id": "CoiweCyynkIz"
      },
      "execution_count": 116,
      "outputs": []
    },
    {
      "cell_type": "code",
      "source": [
        "for param in model.encoder.parameters():\n",
        "    param.requires_grad = False"
      ],
      "metadata": {
        "id": "3zqo0-5Snn2L"
      },
      "execution_count": 117,
      "outputs": []
    },
    {
      "cell_type": "code",
      "source": [
        "summary(model = model,\n",
        "        input_size = [1,3,224,224],\n",
        "        col_names = [\"input_size\", \"output_size\", \"num_params\", \"trainable\"],\n",
        "        col_width = 15,\n",
        "        row_settings = [\"var_names\"])"
      ],
      "metadata": {
        "colab": {
          "base_uri": "https://localhost:8080/"
        },
        "id": "TQONT-nlnqHc",
        "outputId": "e3a454d3-a336-46a6-b592-bba01bb5fd93"
      },
      "execution_count": 118,
      "outputs": [
        {
          "output_type": "execute_result",
          "data": {
            "text/plain": [
              "========================================================================================================================\n",
              "Layer (type (var_name))                                      Input Shape     Output Shape    Param #         Trainable\n",
              "========================================================================================================================\n",
              "VisionTransformer (VisionTransformer)                        [1, 3, 224, 224] [1, 1000]       768             Partial\n",
              "├─Conv2d (conv_proj)                                         [1, 3, 224, 224] [1, 768, 14, 14] (590,592)       False\n",
              "├─Encoder (encoder)                                          [1, 197, 768]   [1, 197, 768]   151,296         False\n",
              "│    └─Dropout (dropout)                                     [1, 197, 768]   [1, 197, 768]   --              --\n",
              "│    └─Sequential (layers)                                   [1, 197, 768]   [1, 197, 768]   --              False\n",
              "│    │    └─EncoderBlock (encoder_layer_0)                   [1, 197, 768]   [1, 197, 768]   (7,087,872)     False\n",
              "│    │    └─EncoderBlock (encoder_layer_1)                   [1, 197, 768]   [1, 197, 768]   (7,087,872)     False\n",
              "│    │    └─EncoderBlock (encoder_layer_2)                   [1, 197, 768]   [1, 197, 768]   (7,087,872)     False\n",
              "│    │    └─EncoderBlock (encoder_layer_3)                   [1, 197, 768]   [1, 197, 768]   (7,087,872)     False\n",
              "│    │    └─EncoderBlock (encoder_layer_4)                   [1, 197, 768]   [1, 197, 768]   (7,087,872)     False\n",
              "│    │    └─EncoderBlock (encoder_layer_5)                   [1, 197, 768]   [1, 197, 768]   (7,087,872)     False\n",
              "│    │    └─EncoderBlock (encoder_layer_6)                   [1, 197, 768]   [1, 197, 768]   (7,087,872)     False\n",
              "│    │    └─EncoderBlock (encoder_layer_7)                   [1, 197, 768]   [1, 197, 768]   (7,087,872)     False\n",
              "│    │    └─EncoderBlock (encoder_layer_8)                   [1, 197, 768]   [1, 197, 768]   (7,087,872)     False\n",
              "│    │    └─EncoderBlock (encoder_layer_9)                   [1, 197, 768]   [1, 197, 768]   (7,087,872)     False\n",
              "│    │    └─EncoderBlock (encoder_layer_10)                  [1, 197, 768]   [1, 197, 768]   (7,087,872)     False\n",
              "│    │    └─EncoderBlock (encoder_layer_11)                  [1, 197, 768]   [1, 197, 768]   (7,087,872)     False\n",
              "│    └─LayerNorm (ln)                                        [1, 197, 768]   [1, 197, 768]   (1,536)         False\n",
              "├─Sequential (heads)                                         [1, 768]        [1, 1000]       --              True\n",
              "│    └─Linear (head)                                         [1, 768]        [1, 1000]       769,000         True\n",
              "========================================================================================================================\n",
              "Total params: 86,567,656\n",
              "Trainable params: 769,768\n",
              "Non-trainable params: 85,797,888\n",
              "Total mult-adds (M): 173.23\n",
              "========================================================================================================================\n",
              "Input size (MB): 0.60\n",
              "Forward/backward pass size (MB): 104.09\n",
              "Params size (MB): 232.27\n",
              "Estimated Total Size (MB): 336.96\n",
              "========================================================================================================================"
            ]
          },
          "metadata": {},
          "execution_count": 118
        }
      ]
    },
    {
      "cell_type": "code",
      "source": [
        "output_shape = len(classes)\n",
        "\n",
        "model.heads = nn.Sequential(\n",
        "    OrderedDict([('head', nn.Linear(in_features = 768, out_features = output_shape))])\n",
        "    )"
      ],
      "metadata": {
        "id": "AgdvoJW-nqpA"
      },
      "execution_count": 119,
      "outputs": []
    },
    {
      "cell_type": "code",
      "source": [
        "summary(model = model,\n",
        "        input_size = [1,3,224,224],\n",
        "        col_names = [\"input_size\", \"output_size\", \"num_params\", \"trainable\"],\n",
        "        col_width = 15,\n",
        "        row_settings = [\"var_names\"])"
      ],
      "metadata": {
        "colab": {
          "base_uri": "https://localhost:8080/"
        },
        "id": "bpk8PV_ioKQ_",
        "outputId": "646a1923-8ad7-4524-e68e-e039ce0175bf"
      },
      "execution_count": 120,
      "outputs": [
        {
          "output_type": "execute_result",
          "data": {
            "text/plain": [
              "========================================================================================================================\n",
              "Layer (type (var_name))                                      Input Shape     Output Shape    Param #         Trainable\n",
              "========================================================================================================================\n",
              "VisionTransformer (VisionTransformer)                        [1, 3, 224, 224] [1, 8]          768             Partial\n",
              "├─Conv2d (conv_proj)                                         [1, 3, 224, 224] [1, 768, 14, 14] (590,592)       False\n",
              "├─Encoder (encoder)                                          [1, 197, 768]   [1, 197, 768]   151,296         False\n",
              "│    └─Dropout (dropout)                                     [1, 197, 768]   [1, 197, 768]   --              --\n",
              "│    └─Sequential (layers)                                   [1, 197, 768]   [1, 197, 768]   --              False\n",
              "│    │    └─EncoderBlock (encoder_layer_0)                   [1, 197, 768]   [1, 197, 768]   (7,087,872)     False\n",
              "│    │    └─EncoderBlock (encoder_layer_1)                   [1, 197, 768]   [1, 197, 768]   (7,087,872)     False\n",
              "│    │    └─EncoderBlock (encoder_layer_2)                   [1, 197, 768]   [1, 197, 768]   (7,087,872)     False\n",
              "│    │    └─EncoderBlock (encoder_layer_3)                   [1, 197, 768]   [1, 197, 768]   (7,087,872)     False\n",
              "│    │    └─EncoderBlock (encoder_layer_4)                   [1, 197, 768]   [1, 197, 768]   (7,087,872)     False\n",
              "│    │    └─EncoderBlock (encoder_layer_5)                   [1, 197, 768]   [1, 197, 768]   (7,087,872)     False\n",
              "│    │    └─EncoderBlock (encoder_layer_6)                   [1, 197, 768]   [1, 197, 768]   (7,087,872)     False\n",
              "│    │    └─EncoderBlock (encoder_layer_7)                   [1, 197, 768]   [1, 197, 768]   (7,087,872)     False\n",
              "│    │    └─EncoderBlock (encoder_layer_8)                   [1, 197, 768]   [1, 197, 768]   (7,087,872)     False\n",
              "│    │    └─EncoderBlock (encoder_layer_9)                   [1, 197, 768]   [1, 197, 768]   (7,087,872)     False\n",
              "│    │    └─EncoderBlock (encoder_layer_10)                  [1, 197, 768]   [1, 197, 768]   (7,087,872)     False\n",
              "│    │    └─EncoderBlock (encoder_layer_11)                  [1, 197, 768]   [1, 197, 768]   (7,087,872)     False\n",
              "│    └─LayerNorm (ln)                                        [1, 197, 768]   [1, 197, 768]   (1,536)         False\n",
              "├─Sequential (heads)                                         [1, 768]        [1, 8]          --              True\n",
              "│    └─Linear (head)                                         [1, 768]        [1, 8]          6,152           True\n",
              "========================================================================================================================\n",
              "Total params: 85,804,808\n",
              "Trainable params: 6,920\n",
              "Non-trainable params: 85,797,888\n",
              "Total mult-adds (M): 172.47\n",
              "========================================================================================================================\n",
              "Input size (MB): 0.60\n",
              "Forward/backward pass size (MB): 104.09\n",
              "Params size (MB): 229.22\n",
              "Estimated Total Size (MB): 333.91\n",
              "========================================================================================================================"
            ]
          },
          "metadata": {},
          "execution_count": 120
        }
      ]
    },
    {
      "cell_type": "code",
      "source": [
        "loss_fn = nn.CrossEntropyLoss()\n",
        "optimizer = optim.Adam(model.parameters(), lr = 0.01)"
      ],
      "metadata": {
        "id": "fXMeG_hGoT-k"
      },
      "execution_count": 121,
      "outputs": []
    },
    {
      "cell_type": "code",
      "source": [
        "def train_step(model:torch.nn.Module,\n",
        "               dataloader:torch.utils.data.DataLoader,\n",
        "               loss_fn:torch.nn.Module,\n",
        "               optimizer:torch.optim.Optimizer):\n",
        "\n",
        "    model.train()\n",
        "\n",
        "    train_loss = 0.\n",
        "    train_accuracy = 0.\n",
        "\n",
        "    for batch,(X,y) in enumerate(dataloader):\n",
        "        X,y = X.to(device), y.to(device)\n",
        "        optimizer.zero_grad()\n",
        "        y_pred_logit = model(X)\n",
        "        loss = loss_fn(y_pred_logit, y)\n",
        "        train_loss += loss.item()\n",
        "\n",
        "        loss.backward()\n",
        "        optimizer.step()\n",
        "\n",
        "        y_pred_prob = torch.softmax(y_pred_logit, dim = 1)\n",
        "        y_pred_class = torch.argmax(y_pred_prob, dim = 1)\n",
        "        train_accuracy += accuracy_score(y.cpu().numpy(),\n",
        "                                         y_pred_class.detach().cpu().numpy())\n",
        "\n",
        "    train_loss = train_loss/len(dataloader)\n",
        "    train_accuracy = train_accuracy/len(dataloader)\n",
        "\n",
        "    return train_loss, train_accuracy"
      ],
      "metadata": {
        "id": "7wmKA_lJolmm"
      },
      "execution_count": 122,
      "outputs": []
    },
    {
      "cell_type": "code",
      "source": [
        "def save_checkpoint(filename, model, loss, epoch, optimizer, metric):\n",
        "    state = {\"filename\":filename,\n",
        "             \"model\":model.state_dict(),\n",
        "             \"loss\":loss,\n",
        "             \"epoch\":epoch,\n",
        "             \"optimizer\":optimizer.state_dict(),\n",
        "             \"metric\":metric}\n",
        "\n",
        "    torch.save(state, filename)"
      ],
      "metadata": {
        "id": "gvFl1532pG0y"
      },
      "execution_count": 123,
      "outputs": []
    },
    {
      "cell_type": "code",
      "source": [
        "def valid_step(model:torch.nn.Module,\n",
        "               dataloader:torch.utils.data.DataLoader,\n",
        "               loss_fn:torch.nn.Module):\n",
        "\n",
        "    model.eval()\n",
        "\n",
        "    valid_loss = 0.\n",
        "    valid_accuracy = 0.\n",
        "\n",
        "    with torch.inference_mode():\n",
        "        for batch,(X,y) in enumerate(dataloader):\n",
        "            X,y = X.to(device), y.to(device)\n",
        "            y_pred_logit = model(X)\n",
        "            loss = loss_fn(y_pred_logit, y)\n",
        "            valid_loss += loss.item()\n",
        "\n",
        "            y_pred_prob = torch.softmax(y_pred_logit, dim = 1)\n",
        "            y_pred_class = torch.argmax(y_pred_prob, dim = 1)\n",
        "\n",
        "            valid_accuracy += accuracy_score(y.cpu().numpy(), y_pred_class.detach().cpu().numpy())\n",
        "\n",
        "    valid_loss = valid_loss/len(dataloader)\n",
        "    valid_accuracy = valid_accuracy/len(dataloader)\n",
        "\n",
        "    return valid_loss, valid_accuracy"
      ],
      "metadata": {
        "id": "sCPSwzympKCE"
      },
      "execution_count": 124,
      "outputs": []
    },
    {
      "cell_type": "code",
      "source": [
        "def train(model:torch.nn.Module,\n",
        "          train_dataloader:torch.utils.data.DataLoader,\n",
        "          valid_dataloader:torch.utils.data.DataLoader,\n",
        "          loss_fn:torch.nn.Module,\n",
        "          optimizer:torch.optim.Optimizer,\n",
        "          epochs:int = 10):\n",
        "\n",
        "    results = {\"train_loss\":[],\n",
        "               \"train_accuracy\":[],\n",
        "               \"valid_loss\":[],\n",
        "               \"valid_accuracy\":[]}\n",
        "\n",
        "    best_valid_loss = float(\"inf\")\n",
        "\n",
        "    for epoch in tqdm(range(epochs)):\n",
        "        train_loss, train_accuracy = train_step(model = model,\n",
        "                                                dataloader = train_dataloader,\n",
        "                                                loss_fn = loss_fn,\n",
        "                                                optimizer = optimizer)\n",
        "\n",
        "        valid_loss, valid_accuracy = valid_step(model = model,\n",
        "                                                dataloader = valid_dataloader,\n",
        "                                                loss_fn = loss_fn)\n",
        "\n",
        "        if valid_loss < best_valid_loss:\n",
        "            best_valid_loss = valid_loss\n",
        "            file_name = \"best_model.pth\"\n",
        "            save_checkpoint(file_name, model, best_valid_loss, epoch, optimizer, valid_accuracy)\n",
        "\n",
        "        if (epoch % 5) == 0:\n",
        "          temp_file_name=f\"model_epoch_{epoch}.pth\"\n",
        "          print(\"saved file: \" + temp_file_name)\n",
        "          save_checkpoint(temp_file_name, model, best_valid_loss, epoch, optimizer, valid_accuracy)\n",
        "\n",
        "        print(f\"Epoch: {epoch + 1} | \",\n",
        "              f\"Train Loss: {train_loss:.4f} | \",\n",
        "              f\"Train Accuracy: {train_accuracy:.4f} | \",\n",
        "              f\"Valid Loss: {valid_loss:.4f} | \",\n",
        "              f\"Valid Accuracy: {valid_accuracy:.4f}\")\n",
        "\n",
        "        results[\"train_loss\"].append(train_loss)\n",
        "        results[\"train_accuracy\"].append(train_accuracy)\n",
        "        results[\"valid_loss\"].append(valid_loss)\n",
        "        results[\"valid_accuracy\"].append(valid_accuracy)\n",
        "\n",
        "    return results"
      ],
      "metadata": {
        "id": "Xk_jAWFcpOEj"
      },
      "execution_count": 125,
      "outputs": []
    },
    {
      "cell_type": "code",
      "source": [
        "# Training!!!\n",
        "EPOCHS = 15\n",
        "\n",
        "torch.cuda.manual_seed(SEED)\n",
        "torch.manual_seed(SEED)\n",
        "\n",
        "MODEL_RESULTS = train(model.to(device),\n",
        "                      train_dataloader,\n",
        "                      valid_dataloader,\n",
        "                      loss_fn,\n",
        "                      optimizer,\n",
        "                      EPOCHS)"
      ],
      "metadata": {
        "colab": {
          "base_uri": "https://localhost:8080/",
          "height": 361,
          "referenced_widgets": [
            "531996a3224d43c5bdc7e839947d5a71",
            "f960c8f0bedf4d5985c60b1924e10d12",
            "96dee0e781ce484fa62734356ea3f32c",
            "94f4aa79719e4c87afeb66ab4547538c",
            "a326e484f51c4295bf5b0963303eb9ca",
            "8db2ba878c7f40fc824b70130aea2d51",
            "268405090f0949769fd0506c52855c94",
            "9acc4aa3569d4a2b8c2bdc30ef06778d",
            "3a9b922ac12749da81786fef6b3696e6",
            "e079a80450b646adb162d6515172f642",
            "e87521fd12274f2baa7c3d4b905db2b0"
          ]
        },
        "id": "SYAE4W1TpSNO",
        "outputId": "c79de4ae-8548-46a0-8686-67aaaac70bf1"
      },
      "execution_count": 126,
      "outputs": [
        {
          "output_type": "display_data",
          "data": {
            "text/plain": [
              "  0%|          | 0/15 [00:00<?, ?it/s]"
            ],
            "application/vnd.jupyter.widget-view+json": {
              "version_major": 2,
              "version_minor": 0,
              "model_id": "531996a3224d43c5bdc7e839947d5a71"
            }
          },
          "metadata": {}
        },
        {
          "output_type": "stream",
          "name": "stdout",
          "text": [
            "saved file: model_epoch_0.pth\n",
            "Epoch: 1 |  Train Loss: 0.6344 |  Train Accuracy: 0.7784 |  Valid Loss: 0.5386 |  Valid Accuracy: 0.8472\n",
            "Epoch: 2 |  Train Loss: 0.2738 |  Train Accuracy: 0.9060 |  Valid Loss: 0.4394 |  Valid Accuracy: 0.8558\n",
            "Epoch: 3 |  Train Loss: 0.1778 |  Train Accuracy: 0.9358 |  Valid Loss: 0.3962 |  Valid Accuracy: 0.8575\n",
            "Epoch: 4 |  Train Loss: 0.1191 |  Train Accuracy: 0.9652 |  Valid Loss: 0.3885 |  Valid Accuracy: 0.8846\n",
            "Epoch: 5 |  Train Loss: 0.0989 |  Train Accuracy: 0.9718 |  Valid Loss: 0.3832 |  Valid Accuracy: 0.8963\n",
            "saved file: model_epoch_5.pth\n",
            "Epoch: 6 |  Train Loss: 0.0867 |  Train Accuracy: 0.9764 |  Valid Loss: 0.3935 |  Valid Accuracy: 0.8849\n",
            "Epoch: 7 |  Train Loss: 0.0814 |  Train Accuracy: 0.9726 |  Valid Loss: 0.3786 |  Valid Accuracy: 0.8983\n",
            "Epoch: 8 |  Train Loss: 0.0616 |  Train Accuracy: 0.9862 |  Valid Loss: 0.4319 |  Valid Accuracy: 0.8846\n",
            "Epoch: 9 |  Train Loss: 0.0501 |  Train Accuracy: 0.9890 |  Valid Loss: 0.4113 |  Valid Accuracy: 0.8832\n",
            "Epoch: 10 |  Train Loss: 0.0418 |  Train Accuracy: 0.9919 |  Valid Loss: 0.4395 |  Valid Accuracy: 0.8769\n",
            "saved file: model_epoch_10.pth\n",
            "Epoch: 11 |  Train Loss: 0.0373 |  Train Accuracy: 0.9925 |  Valid Loss: 0.4298 |  Valid Accuracy: 0.8889\n",
            "Epoch: 12 |  Train Loss: 0.0298 |  Train Accuracy: 0.9955 |  Valid Loss: 0.4027 |  Valid Accuracy: 0.8966\n",
            "Epoch: 13 |  Train Loss: 0.0237 |  Train Accuracy: 0.9974 |  Valid Loss: 0.4235 |  Valid Accuracy: 0.8986\n",
            "Epoch: 14 |  Train Loss: 0.0239 |  Train Accuracy: 0.9979 |  Valid Loss: 0.4520 |  Valid Accuracy: 0.8909\n",
            "Epoch: 15 |  Train Loss: 0.0208 |  Train Accuracy: 0.9974 |  Valid Loss: 0.4177 |  Valid Accuracy: 0.8912\n"
          ]
        }
      ]
    },
    {
      "cell_type": "code",
      "source": [
        "def loss_metric_curve_plot(model_results:Dict[str,List[float]]):\n",
        "\n",
        "    train_loss = model_results[\"train_loss\"]\n",
        "    valid_loss = model_results[\"valid_loss\"]\n",
        "\n",
        "    train_accuracy = [float(value) for value in model_results[\"train_accuracy\"]]\n",
        "    valid_accuracy = [float(value) for value in model_results[\"valid_accuracy\"]]\n",
        "\n",
        "    fig,axes = plt.subplots(nrows = 1, ncols = 2, figsize = (10,4))\n",
        "    axes = axes.flat\n",
        "\n",
        "    axes[0].plot(train_loss, color = \"red\", label = \"Train\")\n",
        "    axes[0].plot(valid_loss, color = \"blue\", label = \"Valid\")\n",
        "    axes[0].set_title(\"CrossEntropyLoss\", fontsize = 12, fontweight = \"bold\", color = \"black\")\n",
        "    axes[0].set_xlabel(\"Epochs\", fontsize = 10, fontweight = \"bold\", color = \"black\")\n",
        "    axes[0].set_ylabel(\"Loss\", fontsize = 10, fontweight = \"bold\", color = \"black\")\n",
        "    axes[0].legend()\n",
        "\n",
        "    axes[1].plot(train_accuracy, color = \"red\", label = \"Train\")\n",
        "    axes[1].plot(valid_accuracy, color = \"blue\", label = \"Valid\")\n",
        "    axes[1].set_title(\"Metric of performance: Accuracy\", fontsize = 12, fontweight = \"bold\", color = \"black\")\n",
        "    axes[1].set_xlabel(\"Epochs\", fontsize = 10, fontweight = \"bold\", color = \"black\")\n",
        "    axes[1].set_ylabel(\"Score\", fontsize = 10, fontweight = \"bold\", color = \"black\")\n",
        "    axes[1].legend()\n",
        "\n",
        "    fig.tight_layout()\n",
        "    fig.show()"
      ],
      "metadata": {
        "id": "Z6Cyqbf3xu4a"
      },
      "execution_count": 127,
      "outputs": []
    },
    {
      "cell_type": "code",
      "source": [
        "loss_metric_curve_plot(MODEL_RESULTS)"
      ],
      "metadata": {
        "colab": {
          "base_uri": "https://localhost:8080/",
          "height": 407
        },
        "id": "kizmZrXXx2-e",
        "outputId": "326ca15d-c4b3-4588-bd8e-00fd6975be61"
      },
      "execution_count": 128,
      "outputs": [
        {
          "output_type": "display_data",
          "data": {
            "text/plain": [
              "<Figure size 1000x400 with 2 Axes>"
            ],
            "image/png": "[encoded data removed]"
          },
          "metadata": {}
        }
      ]
    },
    {
      "cell_type": "markdown",
      "source": [
        "# Load The Model\n",
        "Load the model from `best_model.pth`"
      ],
      "metadata": {
        "id": "eTAYW7Is9Nss"
      }
    },
    {
      "cell_type": "code",
      "source": [
        "checkpoint = torch.load(\"best_model.pth\")\n",
        "print(f'Best Loss: {checkpoint[\"loss\"]}')\n",
        "print(f'Epoch: {checkpoint[\"epoch\"] + 1}')\n",
        "print(f'Best Metric: {checkpoint[\"metric\"]}')"
      ],
      "metadata": {
        "colab": {
          "base_uri": "https://localhost:8080/"
        },
        "id": "HXLF5JoKuXnH",
        "outputId": "51157f83-b996-4f0a-a0fc-859f7a7f32a5"
      },
      "execution_count": 129,
      "outputs": [
        {
          "output_type": "stream",
          "name": "stdout",
          "text": [
            "Best Loss: 0.37861480712890627\n",
            "Epoch: 7\n",
            "Best Metric: 0.8983076923076923\n"
          ]
        }
      ]
    },
    {
      "cell_type": "code",
      "source": [
        "test_dataset = CustomDataset(test_paires, auto_transforms, label_map)\n",
        "test_dataloader = DataLoader(dataset = test_dataset, shuffle = False, num_workers = NUM_WORKERS)"
      ],
      "metadata": {
        "id": "HuBSOjjtuzpy"
      },
      "execution_count": 130,
      "outputs": []
    },
    {
      "cell_type": "code",
      "source": [
        "loaded_model = vit_b_16()\n",
        "\n",
        "loaded_model.heads = nn.Sequential(OrderedDict([('head',nn.Linear(in_features = 768,\n",
        "                                                                  out_features = output_shape))]))\n",
        "\n",
        "loaded_model.load_state_dict(checkpoint[\"model\"])\n",
        "\n",
        "# We now infer\n",
        "loaded_model.to(device)\n",
        "\n",
        "loaded_model.eval()\n",
        "\n",
        "y_pred_test = []\n",
        "\n",
        "with torch.inference_mode():\n",
        "    for X,y in tqdm(test_dataloader):\n",
        "        X,y = X.to(device), y.to(device)\n",
        "        y_pred_logit = loaded_model(X)\n",
        "        y_pred_prob = torch.softmax(y_pred_logit, dim = 1)\n",
        "        y_pred_class = torch.argmax(y_pred_prob, dim = 1)\n",
        "        y_pred_test.append(y_pred_class.detach().cpu())"
      ],
      "metadata": {
        "colab": {
          "base_uri": "https://localhost:8080/",
          "height": 49,
          "referenced_widgets": [
            "e3cfa2cfbb4d447eaa569f0668aaa6b6",
            "530d3c7469a14af8b2294e148b3ad98a",
            "51c74a4c80ef4abf9835074da6046354",
            "de4bfa5d187d4f3e8b9fc889f187884f",
            "dcc01971df4b4878bc14b318a20b486e",
            "e2bb417679a546b8922155e8f904dfa2",
            "be17ca21360344a9a73d33fccca709f1",
            "e4a7102abf36467d8523f379c2f40e7a",
            "4660ca8bee574720b46f1d35073bd33a",
            "73bde69c2a7c445db0f29b5fcbcb65d1",
            "149c10eb882a4f489189dc7f1bb65de9"
          ]
        },
        "id": "1H4GYa_Xu38m",
        "outputId": "1130f839-c727-4aa2-af17-8260289d4302"
      },
      "execution_count": 131,
      "outputs": [
        {
          "output_type": "display_data",
          "data": {
            "text/plain": [
              "  0%|          | 0/426 [00:00<?, ?it/s]"
            ],
            "application/vnd.jupyter.widget-view+json": {
              "version_major": 2,
              "version_minor": 0,
              "model_id": "e3cfa2cfbb4d447eaa569f0668aaa6b6"
            }
          },
          "metadata": {}
        }
      ]
    },
    {
      "cell_type": "code",
      "source": [
        "y_pred_test = torch.cat(y_pred_test).numpy()"
      ],
      "metadata": {
        "id": "xwY_HJRCu8vw"
      },
      "execution_count": 132,
      "outputs": []
    },
    {
      "cell_type": "code",
      "source": [
        "print(f'Accuracy = {round(accuracy_score(test_paires[\"label\"].map(label_map), y_pred_test), 4)}')"
      ],
      "metadata": {
        "colab": {
          "base_uri": "https://localhost:8080/"
        },
        "id": "Z9REfLYEu_ow",
        "outputId": "aff0dd8a-4937-4710-822b-8a9cd0a8d455"
      },
      "execution_count": 133,
      "outputs": [
        {
          "output_type": "stream",
          "name": "stdout",
          "text": [
            "Accuracy = 0.8826\n"
          ]
        }
      ]
    },
    {
      "cell_type": "code",
      "source": [
        "confusion_matrix_test = confusion_matrix(test_paires[\"label\"].map(label_map), y_pred_test)"
      ],
      "metadata": {
        "id": "FdcaYpLJvFGe"
      },
      "execution_count": 134,
      "outputs": []
    },
    {
      "cell_type": "code",
      "source": [
        "fig,ax = plt.subplots(figsize = (15,4))\n",
        "sns.heatmap(confusion_matrix_test,\n",
        "            cmap = 'coolwarm',\n",
        "            annot = True,\n",
        "            annot_kws = {\"fontsize\":9, \"fontweight\":\"bold\"},\n",
        "            linewidths = 1.2,\n",
        "            linecolor = \"black\",\n",
        "            square = True,\n",
        "            xticklabels = classes,\n",
        "            yticklabels = classes,\n",
        "            cbar = False,\n",
        "            ax = ax)\n",
        "ax.set_title(\"Confusion Matrix Test\", fontsize = 10, fontweight = \"bold\", color = \"darkblue\")\n",
        "ax.tick_params('x',rotation = 90)\n",
        "fig.show()\n"
      ],
      "metadata": {
        "colab": {
          "base_uri": "https://localhost:8080/",
          "height": 458
        },
        "id": "RXtoHprpvIDq",
        "outputId": "eaa5cd85-86a6-4277-e7c2-dee3f4430f87"
      },
      "execution_count": 135,
      "outputs": [
        {
          "output_type": "display_data",
          "data": {
            "text/plain": [
              "<Figure size 1500x400 with 1 Axes>"
            ],
            "image/png": "[encoded data removed]"
          },
          "metadata": {}
        }
      ]
    },
    {
      "cell_type": "code",
      "source": [
        "# !pip install onnx\n",
        "# !pip install onnxscript\n",
        "\n",
        "loaded_model = vit_b_16()\n",
        "\n",
        "loaded_model.heads = nn.Sequential(OrderedDict([('head',nn.Linear(in_features = 768,\n",
        "                                                                  out_features = output_shape))]))\n",
        "\n",
        "loaded_model.load_state_dict(checkpoint[\"model\"])\n",
        "\n",
        "dummy_input = torch.randn(1, 3, 224, 224)\n",
        "\n",
        "# Export the model to ONNX format\n",
        "torch.onnx.export(loaded_model, dummy_input, \"/content/drive/MyDrive/לימודים/פרויקט גמר/model.onnx\",\n",
        "input_names=['input'], output_names=['output'],\n",
        "dynamic_axes={'input': {0: 'batch_size'}, 'output': {0: 'batch_size'}})\n",
        "\n"
      ],
      "metadata": {
        "colab": {
          "base_uri": "https://localhost:8080/"
        },
        "id": "3SAgzlc-FBOH",
        "outputId": "6061e47a-dea5-4d21-a0ec-b4ada0f54fdd"
      },
      "execution_count": 136,
      "outputs": [
        {
          "output_type": "stream",
          "name": "stderr",
          "text": [
            "Exception ignored in: <function tqdm.__del__ at 0x7f0befed31c0>\n",
            "Traceback (most recent call last):\n",
            "  File \"/usr/local/lib/python3.10/dist-packages/tqdm/std.py\", line 1148, in __del__\n",
            "    self.close()\n",
            "  File \"/usr/local/lib/python3.10/dist-packages/tqdm/notebook.py\", line 279, in close\n",
            "    self.disp(bar_style='danger', check_delay=False)\n",
            "AttributeError: 'tqdm' object has no attribute 'disp'\n"
          ]
        }
      ]
    },
    {
      "cell_type": "code",
      "source": [
        "def test_on_data(path_to_zip_data):\n",
        "  !rm -rf /temp-faces\n",
        "  zip_data = zipfile.ZipFile(path_to_zip_data)\n",
        "  zip_data.extractall('/temp-faces')\n",
        "  zip_data.close()\n",
        "  paires= get_image_path_and_label_paires('/temp-faces')\n",
        "  print(paires.head())\n",
        "\n",
        "  dataset = CustomDataset(paires, auto_transforms, label_map)\n",
        "  dataloader = DataLoader(dataset = dataset, shuffle = False, num_workers = NUM_WORKERS)\n",
        "\n",
        "  loaded_model = vit_b_16()\n",
        "\n",
        "  loaded_model.heads = nn.Sequential(OrderedDict([('head',nn.Linear(in_features = 768,\n",
        "                                                                    out_features = output_shape))]))\n",
        "\n",
        "  loaded_model.load_state_dict(checkpoint[\"model\"])\n",
        "\n",
        "  # We now infer yael's face\n",
        "  loaded_model.to(device)\n",
        "\n",
        "  loaded_model.eval()\n",
        "\n",
        "  y_pred_test = []\n",
        "\n",
        "  with torch.inference_mode():\n",
        "      for X,y in tqdm(dataloader):\n",
        "          X,y = X.to(device), y.to(device)\n",
        "          y_pred_logit = loaded_model(X)\n",
        "          y_pred_prob = torch.softmax(y_pred_logit, dim = 1)\n",
        "          y_pred_class = torch.argmax(y_pred_prob, dim = 1)\n",
        "          y_pred_test.append(y_pred_class.detach().cpu())\n",
        "\n",
        "  y_pred_test = torch.cat(y_pred_test).numpy()\n",
        "  print(y_pred_test)\n",
        "  print(f'Accuracy = {round(accuracy_score(paires[\"label\"].map(label_map), y_pred_test), 4)}')"
      ],
      "metadata": {
        "id": "xU10QhjdO0mC"
      },
      "execution_count": 137,
      "outputs": []
    },
    {
      "cell_type": "code",
      "source": [
        "test_on_data('/content/drive/MyDrive/לימודים/פרויקט גמר/yael-face.zip')"
      ],
      "metadata": {
        "colab": {
          "base_uri": "https://localhost:8080/",
          "height": 240,
          "referenced_widgets": [
            "2151cd3e1509494186149a97542c41c6",
            "14b280cc957d473db43a47290abdd789",
            "887fdbfeb77b46e0bcf0a06656fe72cd",
            "9ccc8ffbffe84585b3c64faf5aaa8b2c",
            "ca37f540d4a8420b8d19291b4b077c15",
            "4d4f9bd25e9f4bddbf1f580f8de10bea",
            "92e046eb920d46528288858e886ac682",
            "507706760d654013b1f8f0a0f88823a1",
            "f5627368dab540809c54d97c48cf6f4b",
            "fa6f27533d5d4fd9a936ee6ac1fa001f",
            "d9cb849c5435429f9d7748e0f8a4b27b"
          ]
        },
        "id": "_VeAYOrjPzIP",
        "outputId": "d7bdd538-ac46-4850-c495-5100585e4e9b"
      },
      "execution_count": 138,
      "outputs": [
        {
          "output_type": "stream",
          "name": "stdout",
          "text": [
            "Total Images = 9\n",
            "classes:  ['Normal Skin']\n",
            "* Normal Skin: 9 images\n",
            "                            path        label\n",
            "0  /temp-faces/Normal Skin/1.jpg  Normal Skin\n",
            "1  /temp-faces/Normal Skin/4.jpg  Normal Skin\n",
            "2  /temp-faces/Normal Skin/3.jpg  Normal Skin\n",
            "3  /temp-faces/Normal Skin/6.jpg  Normal Skin\n",
            "4  /temp-faces/Normal Skin/2.jpg  Normal Skin\n"
          ]
        },
        {
          "output_type": "display_data",
          "data": {
            "text/plain": [
              "  0%|          | 0/9 [00:00<?, ?it/s]"
            ],
            "application/vnd.jupyter.widget-view+json": {
              "version_major": 2,
              "version_minor": 0,
              "model_id": "2151cd3e1509494186149a97542c41c6"
            }
          },
          "metadata": {}
        },
        {
          "output_type": "stream",
          "name": "stdout",
          "text": [
            "[0 0 0 5 5 7 7 1 7]\n",
            "Accuracy = 0.0\n"
          ]
        }
      ]
    },
    {
      "cell_type": "code",
      "source": [
        "test_on_data('/content/drive/MyDrive/לימודים/פרויקט גמר/shahar-face.zip')"
      ],
      "metadata": {
        "colab": {
          "base_uri": "https://localhost:8080/",
          "height": 361,
          "referenced_widgets": [
            "fddf6370229d4273a7e1a6a930a71244",
            "5810f2ebb1ab45edb49bcb55766592f9",
            "d416841e01cb4559ba06b058daa5fa0d",
            "99959cad21a9474580ffe7e48aea024d",
            "fb56e41fc6514cfcbcbf7edb3fd57df3",
            "10585114736142c49546391045a84492",
            "7b651dae28f9441d874e0f5e55f56275",
            "942c6078aabc408399e4795754505a3f",
            "57e4d62abb5e4b578f13fb4b29857b67",
            "072d36ac442b4778888b98f146b4af7a",
            "5812387af0074f0db41c9068bb0c7280"
          ]
        },
        "id": "BYsjC_MGQEeZ",
        "outputId": "056456f8-c6e8-43e4-e120-e2971b65b2f8"
      },
      "execution_count": 139,
      "outputs": [
        {
          "output_type": "stream",
          "name": "stdout",
          "text": [
            "Total Images = 3\n",
            "classes:  ['Normal Skin']\n",
            "* Normal Skin: 3 images\n",
            "                            path        label\n",
            "0  /temp-faces/Normal Skin/1.jpg  Normal Skin\n",
            "1  /temp-faces/Normal Skin/3.jpg  Normal Skin\n",
            "2  /temp-faces/Normal Skin/2.jpg  Normal Skin\n"
          ]
        },
        {
          "output_type": "display_data",
          "data": {
            "text/plain": [
              "  0%|          | 0/3 [00:00<?, ?it/s]"
            ],
            "application/vnd.jupyter.widget-view+json": {
              "version_major": 2,
              "version_minor": 0,
              "model_id": "fddf6370229d4273a7e1a6a930a71244"
            }
          },
          "metadata": {}
        },
        {
          "output_type": "stream",
          "name": "stderr",
          "text": [
            "Exception ignored in: <function _MultiProcessingDataLoaderIter.__del__ at 0x7f0befc8dc60>\n",
            "Traceback (most recent call last):\n",
            "  File \"/usr/local/lib/python3.10/dist-packages/torch/utils/data/dataloader.py\", line 1479, in __del__\n",
            "    self._shutdown_workers()\n",
            "  File \"/usr/local/lib/python3.10/dist-packages/torch/utils/data/dataloader.py\", line 1462, in _shutdown_workers\n",
            "    if w.is_alive():\n",
            "  File \"/usr/lib/python3.10/multiprocessing/process.py\", line 160, in is_alive\n",
            "    assert self._parent_pid == os.getpid(), 'can only test a child process'\n",
            "AssertionError: can only test a child process\n"
          ]
        },
        {
          "output_type": "stream",
          "name": "stdout",
          "text": [
            "[0 1 5]\n",
            "Accuracy = 0.0\n"
          ]
        }
      ]
    }
  ]
}